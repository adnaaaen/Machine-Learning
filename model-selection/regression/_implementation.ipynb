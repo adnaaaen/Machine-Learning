{
 "cells": [
  {
   "cell_type": "markdown",
   "id": "20f4962b-eb2b-43da-8725-04240c59564e",
   "metadata": {},
   "source": [
    "# Evaluation Metrics for Regression Model"
   ]
  },
  {
   "cell_type": "code",
   "execution_count": 9,
   "id": "110053dd-ca09-42c2-b77e-94e24d3a73f1",
   "metadata": {},
   "outputs": [],
   "source": [
    "import numpy as np\n",
    "from typing import Iterable"
   ]
  },
  {
   "cell_type": "code",
   "execution_count": 3,
   "id": "5184307b-f305-4c41-b120-d1447f103d0d",
   "metadata": {},
   "outputs": [],
   "source": [
    "# random model prediction data\n",
    "X = [10, 20, 30, 40, 50]\n",
    "Y_TRUE = [4232, 5342, 5634, 6353, 7534]\n",
    "\n",
    "# average prediction\n",
    "Y_PRED_AV = [4250, 5360, 5690, 6340, 7534]\n",
    "\n",
    "# good prediction\n",
    "Y_PRED_GO = [4233, 5344, 5635, 6354, 7534]\n",
    "\n",
    "# poor prediction\n",
    "Y_PRED_PO = [4400, 5600, 5800, 6700, 7900]"
   ]
  },
  {
   "cell_type": "markdown",
   "id": "4ec41ba4-5683-4994-9fa1-8049171ba03f",
   "metadata": {},
   "source": [
    "## Mean Squared Error (MSE)\n",
    "$$\\text{MSE} = \\frac{1}{n} \\sum_{i=1}^n \\left( y_i - \\hat{y}_i \\right)^2$$\n",
    "Where:\n",
    "\n",
    "- $n$ = Number of data points\n",
    "- $y_i$ = Actual value for the $i$-th data point\n",
    "- $\\hat{y}_i$ = Predicted value for the $i$-th data point"
   ]
  },
  {
   "cell_type": "markdown",
   "id": "fc6df46e-f07a-43be-97e0-81fa26cd1ad3",
   "metadata": {},
   "source": [
    "### From Scratch"
   ]
  },
  {
   "cell_type": "code",
   "execution_count": 12,
   "id": "5cfec96a-3adc-46a7-989e-a4ef4b403e5a",
   "metadata": {},
   "outputs": [],
   "source": [
    "def get_mean_squared_error(y_true: Iterable[float], y_pred: Iterable[float]) -> float: \n",
    "\n",
    "    \"\"\"perform mean squared error\n",
    "\n",
    "    Args:\n",
    "        y_true (Iterable[float]) : actual value\n",
    "        y_pred (Iterable[float]) : predicted value by model\n",
    "\n",
    "    Returns:\n",
    "        float : MSE\n",
    "    \"\"\"\n",
    "    summation = 0\n",
    "    n = len(y_true)\n",
    "    for i in range(n):\n",
    "        summation += np.pow((y_true[i] - y_pred[i]), 2)\n",
    "    return summation / n"
   ]
  },
  {
   "cell_type": "code",
   "execution_count": 13,
   "id": "691b3d44-25d7-4647-beeb-ad9fcb13cf14",
   "metadata": {},
   "outputs": [
    {
     "data": {
      "text/plain": [
       "np.float64(1.4)"
      ]
     },
     "execution_count": 13,
     "metadata": {},
     "output_type": "execute_result"
    }
   ],
   "source": [
    "# best fit model prediction\n",
    "get_mean_squared_error(Y_TRUE, Y_PRED_GO)"
   ]
  },
  {
   "cell_type": "code",
   "execution_count": 14,
   "id": "c752f5c7-3fe1-4978-b547-4a120c644ce0",
   "metadata": {},
   "outputs": [
    {
     "data": {
      "text/plain": [
       "np.float64(790.6)"
      ]
     },
     "execution_count": 14,
     "metadata": {},
     "output_type": "execute_result"
    }
   ],
   "source": [
    "# average fit model prediction\n",
    "get_mean_squared_error(Y_TRUE, Y_PRED_AV)"
   ]
  },
  {
   "cell_type": "code",
   "execution_count": 15,
   "id": "3664e8e7-e256-463c-b332-04031ea9f271",
   "metadata": {},
   "outputs": [
    {
     "data": {
      "text/plain": [
       "np.float64(75341.8)"
      ]
     },
     "execution_count": 15,
     "metadata": {},
     "output_type": "execute_result"
    }
   ],
   "source": [
    "# average fit model prediction\n",
    "get_mean_squared_error(Y_TRUE, Y_PRED_PO)"
   ]
  },
  {
   "cell_type": "markdown",
   "id": "fadafa01-9655-479b-adbc-59c97479787d",
   "metadata": {},
   "source": [
    "### Using sklearn"
   ]
  },
  {
   "cell_type": "code",
   "execution_count": 4,
   "id": "ed12004d-4fcb-4ca0-85f4-ed5671be01b8",
   "metadata": {},
   "outputs": [],
   "source": [
    "from sklearn.metrics import mean_squared_error"
   ]
  },
  {
   "cell_type": "code",
   "execution_count": 5,
   "id": "5366a47a-d66e-4d90-816e-0adc6927170b",
   "metadata": {},
   "outputs": [
    {
     "data": {
      "text/plain": [
       "np.float64(1.4)"
      ]
     },
     "execution_count": 5,
     "metadata": {},
     "output_type": "execute_result"
    }
   ],
   "source": [
    "# best fit model prediction\n",
    "mean_squared_error(Y_TRUE, Y_PRED_GO)"
   ]
  },
  {
   "cell_type": "code",
   "execution_count": 6,
   "id": "0eb89ae3-4c86-4d1c-bb5f-b688b8804e21",
   "metadata": {},
   "outputs": [
    {
     "data": {
      "text/plain": [
       "np.float64(790.6)"
      ]
     },
     "execution_count": 6,
     "metadata": {},
     "output_type": "execute_result"
    }
   ],
   "source": [
    "# Average fit model prediction\n",
    "mean_squared_error(Y_TRUE, Y_PRED_AV)"
   ]
  },
  {
   "cell_type": "code",
   "execution_count": 7,
   "id": "d57856eb-de8f-423e-add9-ae91cfe5f11c",
   "metadata": {},
   "outputs": [
    {
     "data": {
      "text/plain": [
       "np.float64(75341.8)"
      ]
     },
     "execution_count": 7,
     "metadata": {},
     "output_type": "execute_result"
    }
   ],
   "source": [
    "# worst fit model prediction\n",
    "mean_squared_error(Y_TRUE, Y_PRED_PO)"
   ]
  },
  {
   "cell_type": "markdown",
   "id": "c0c8c9ce-8d0b-448e-893b-afc87227b59d",
   "metadata": {},
   "source": [
    "# Mean Absolute Error (MAE)"
   ]
  },
  {
   "cell_type": "code",
   "execution_count": 22,
   "id": "6bc27519-e3b3-4264-a7a3-1286f09b421b",
   "metadata": {},
   "outputs": [],
   "source": [
    "def get_mean_absolute_error(y_true: Iterable[float], y_pred: Iterable[float]) -> float:\n",
    "    \n",
    "    \"\"\"perform mean absolute error\n",
    "\n",
    "    Args:\n",
    "        y_true (Iterable[float]) : actual value\n",
    "        y_pred (Iterable[float]) : predicted value by model\n",
    "\n",
    "    Returns:\n",
    "        float : MAE\n",
    "    \"\"\"\n",
    "    raise NotImplementedError(\"this function will implement in future\")\n"
   ]
  },
  {
   "cell_type": "code",
   "execution_count": null,
   "id": "11b52ca0-83a1-4bb1-a21b-8090b82b8ff7",
   "metadata": {},
   "outputs": [],
   "source": []
  }
 ],
 "metadata": {
  "kernelspec": {
   "display_name": "Python 3 (ipykernel)",
   "language": "python",
   "name": "python3"
  },
  "language_info": {
   "codemirror_mode": {
    "name": "ipython",
    "version": 3
   },
   "file_extension": ".py",
   "mimetype": "text/x-python",
   "name": "python",
   "nbconvert_exporter": "python",
   "pygments_lexer": "ipython3",
   "version": "3.12.7"
  }
 },
 "nbformat": 4,
 "nbformat_minor": 5
}
