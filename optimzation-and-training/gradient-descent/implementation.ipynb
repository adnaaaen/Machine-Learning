{
 "cells": [
  {
   "cell_type": "code",
   "execution_count": 4,
   "id": "c42e753a-1f8f-420f-81f4-daf4d654f92c",
   "metadata": {},
   "outputs": [],
   "source": [
    "import numpy as np\n",
    "from numpy.typing import NDArray\n",
    "from sklearn.datasets import make_classification"
   ]
  },
  {
   "cell_type": "markdown",
   "id": "b7887b5b-ca1f-4b8d-b01f-cda406714f24",
   "metadata": {},
   "source": [
    "### Equation\n",
    "\n",
    "- **For weights ($w$):**\n",
    "\n",
    "  $w = w - \\alpha \\cdot dw$\n",
    "  \n",
    "  Where:\n",
    "  $dw = (\\hat{y} - y) \\cdot x$\n",
    "\n",
    "- **For bias ($b$):**\n",
    "  \n",
    "  $b = b - \\alpha \\cdot db$\n",
    "  \n",
    "  Where:\n",
    "  $db = \\hat{y} - y$\n",
    "\n",
    "#### **Where**\n",
    "\n",
    "- $w$: Current weight.  \n",
    "- $b$: Current bias.  \n",
    "- $\\alpha$: Learning rate (controls how large the parameter updates are).  \n",
    "- $dw$: Gradient of the loss with respect to $w$.  \n",
    "- $db$: Gradient of the loss with respect to $b$.  \n",
    "- $x$: Input feature.  \n",
    "- $y$: True label.  \n",
    "- $\\hat{y}$: Predicted probability.  "
   ]
  },
  {
   "cell_type": "code",
   "execution_count": 3,
   "id": "851b1b70-ff28-4beb-b495-d3a6edbc815f",
   "metadata": {},
   "outputs": [
    {
     "data": {
      "text/plain": [
       "((100, 10), (100,))"
      ]
     },
     "execution_count": 3,
     "metadata": {},
     "output_type": "execute_result"
    }
   ],
   "source": [
    "raw_x, raw_y = make_classification(random_state=348, n_features=10)\n",
    "\n",
    "(raw_x.shape, raw_y.shape)"
   ]
  },
  {
   "cell_type": "code",
   "execution_count": 21,
   "id": "089ac63e-2e25-4076-91b5-8ce383fa16d9",
   "metadata": {
    "scrolled": true
   },
   "outputs": [
    {
     "data": {
      "text/plain": [
       "array([0.14702173, 0.24914053, 0.75475214, 0.08457025, 0.1826107 ,\n",
       "       0.84676237, 0.25858989, 0.49364454, 0.62749697, 0.17288497,\n",
       "       0.17197973, 0.92709738, 0.24780183, 0.46221539, 0.58351579,\n",
       "       0.022785  , 0.87352763, 0.5632689 , 0.92594659, 0.34800658,\n",
       "       0.522811  , 0.72538897, 0.21057945, 0.95217355, 0.05423476,\n",
       "       0.28673194, 0.74557756, 0.55826381, 0.10741428, 0.97676567,\n",
       "       0.39163665, 0.9175867 , 0.78977796, 0.59130641, 0.50029192,\n",
       "       0.80889083, 0.44651717, 0.54502633, 0.25152909, 0.61139514,\n",
       "       0.04067509, 0.7881781 , 0.9064307 , 0.6012797 , 0.55461278,\n",
       "       0.44051164, 0.56000459, 0.18209282, 0.74225106, 0.36969684,\n",
       "       0.0623286 , 0.15066661, 0.89152483, 0.83224549, 0.13863855,\n",
       "       0.03671062, 0.58045027, 0.47439207, 0.16773692, 0.60099277,\n",
       "       0.9960609 , 0.47386089, 0.74049629, 0.7356757 , 0.43092942,\n",
       "       0.27701369, 0.76953338, 0.61795515, 0.43820719, 0.38984241,\n",
       "       0.28640069, 0.02151634, 0.88898752, 0.75673127, 0.26958824,\n",
       "       0.57790872, 0.25664979, 0.37149348, 0.01156576, 0.82371021,\n",
       "       0.10322777, 0.3702284 , 0.41062289, 0.72734487, 0.27136202,\n",
       "       0.43695008, 0.59655633, 0.2664528 , 0.40887695, 0.09045546,\n",
       "       0.82533738, 0.07420903, 0.16103739, 0.92167424, 0.45701006,\n",
       "       0.94328947, 0.35402132, 0.99635486, 0.31238207, 0.21416314])"
      ]
     },
     "execution_count": 21,
     "metadata": {},
     "output_type": "execute_result"
    }
   ],
   "source": [
    "y_pred = np.random.uniform(0,1, size=(100))\n",
    "y_pred"
   ]
  },
  {
   "cell_type": "code",
   "execution_count": null,
   "id": "86373b60-9431-4f91-8b4c-6c4101436022",
   "metadata": {},
   "outputs": [],
   "source": [
    "class LogitcsRegression:\n",
    "\n",
    "    def __init__(self, learning_rate: float = 0.02, epochs: int = 500) -> None:\n",
    "        self.learning_rate = learning_rate\n",
    "        self.epochs = epochs\n",
    "        self.weight = None\n",
    "        self.bias = None\n",
    "\n",
    "    @staticmethod\n",
    "    def bce(y_true: NDArray[int], y_pred: NDArray[float]) -> float:\n",
    "        summation = 0\n",
    "        for yi, yi_cap in zip(y_true, y_pred):\n",
    "            print()\n",
    "\n",
    "    @staticmethod\n",
    "    def linear_equation() -> None:\n",
    "        raise NotImplementedError\n",
    "    \n",
    "    @staticmethod\n",
    "    def sigmoid() -> None:\n",
    "        raise NotImplementedError\n",
    "\n",
    "    def fit(self, x_train: NDArray[float], y_train: NDArray[int]) -> None:\n",
    "        raise NotImplementedError\n",
    "        \n",
    "    def predicit(self) -> None:\n",
    "        raise NotImplementedError\n",
    "\n",
    "        "
   ]
  },
  {
   "cell_type": "code",
   "execution_count": null,
   "id": "5eafb692-508c-46a4-b35a-1fd65aafc63d",
   "metadata": {},
   "outputs": [],
   "source": []
  },
  {
   "cell_type": "code",
   "execution_count": null,
   "id": "09a11f4a-0b3b-490e-ad99-e4d702c0ce62",
   "metadata": {},
   "outputs": [],
   "source": [
    "def update_parms(learning_rate: float = 0.02, epochs: int = 500) -> None:\n",
    "    WEIGHT = \n",
    "    for _ in range(epochs):\n",
    "        "
   ]
  }
 ],
 "metadata": {
  "kernelspec": {
   "display_name": "Python 3 (ipykernel)",
   "language": "python",
   "name": "python3"
  },
  "language_info": {
   "codemirror_mode": {
    "name": "ipython",
    "version": 3
   },
   "file_extension": ".py",
   "mimetype": "text/x-python",
   "name": "python",
   "nbconvert_exporter": "python",
   "pygments_lexer": "ipython3",
   "version": "3.12.7"
  }
 },
 "nbformat": 4,
 "nbformat_minor": 5
}
