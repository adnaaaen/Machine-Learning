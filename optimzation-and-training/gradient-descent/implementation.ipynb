{
 "cells": [
  {
   "cell_type": "code",
   "execution_count": 1,
   "id": "c42e753a-1f8f-420f-81f4-daf4d654f92c",
   "metadata": {},
   "outputs": [],
   "source": [
    "import numpy as np\n",
    "from numpy.typing import NDArray\n",
    "from sklearn.datasets import make_classification"
   ]
  },
  {
   "cell_type": "markdown",
   "id": "b7887b5b-ca1f-4b8d-b01f-cda406714f24",
   "metadata": {},
   "source": [
    "### Equation\n",
    "\n",
    "- **For weights ($w$):**\n",
    "\n",
    "  $w = w - \\alpha \\cdot dw$\n",
    "  \n",
    "- **For bias ($b$):**\n",
    "  \n",
    "  $b = b - \\alpha \\cdot db$\n",
    "\n",
    "#### **Where**\n",
    "\n",
    "- $w$: Current weight.  \n",
    "- $b$: Current bias.  \n",
    "- $\\alpha$: Learning rate (controls how large the parameter updates are).  \n",
    "- $dw$: Gradient of the loss with respect to $w$.  \n",
    "- $db$: Gradient of the loss with respect to $b$.  "
   ]
  },
  {
   "cell_type": "code",
   "execution_count": 2,
   "id": "851b1b70-ff28-4beb-b495-d3a6edbc815f",
   "metadata": {},
   "outputs": [
    {
     "data": {
      "text/plain": [
       "((100, 10), (100,))"
      ]
     },
     "execution_count": 2,
     "metadata": {},
     "output_type": "execute_result"
    }
   ],
   "source": [
    "raw_x, raw_y = make_classification(random_state=348, n_features=10)\n",
    "\n",
    "(raw_x.shape, raw_y.shape)"
   ]
  },
  {
   "cell_type": "code",
   "execution_count": 3,
   "id": "089ac63e-2e25-4076-91b5-8ce383fa16d9",
   "metadata": {
    "scrolled": true
   },
   "outputs": [
    {
     "data": {
      "text/plain": [
       "array([0.48753867, 0.55085626, 0.78140954, 0.76256919, 0.03580947,\n",
       "       0.94635218, 0.93211726, 0.71107762, 0.35032282, 0.28521724,\n",
       "       0.60489077, 0.61241365, 0.67466519, 0.37201633, 0.88217321,\n",
       "       0.19641034, 0.92542924, 0.750549  , 0.09804403, 0.83363288,\n",
       "       0.92395598, 0.6094855 , 0.76068186, 0.21330457, 0.88093866,\n",
       "       0.36585146, 0.24245717, 0.32827013, 0.25486069, 0.89655075,\n",
       "       0.48963153, 0.59358602, 0.98402914, 0.60310854, 0.02013863,\n",
       "       0.99575481, 0.69957428, 0.66839072, 0.83206995, 0.15466134,\n",
       "       0.02453278, 0.83081114, 0.97725546, 0.08593724, 0.35353525,\n",
       "       0.63531549, 0.37248944, 0.74768634, 0.00781458, 0.70991521,\n",
       "       0.03586702, 0.83189783, 0.28877332, 0.50196504, 0.05203294,\n",
       "       0.31676371, 0.7571437 , 0.81029176, 0.23775779, 0.26073465,\n",
       "       0.82314853, 0.41379703, 0.34421215, 0.68706677, 0.87482482,\n",
       "       0.2783015 , 0.20825278, 0.88379172, 0.99158355, 0.26208418,\n",
       "       0.48083097, 0.00820043, 0.93513333, 0.04714819, 0.35716135,\n",
       "       0.95722961, 0.27764877, 0.63474185, 0.4858602 , 0.60258001,\n",
       "       0.56758487, 0.50431286, 0.83034166, 0.15480045, 0.98581615,\n",
       "       0.47880879, 0.76543294, 0.12140854, 0.25548837, 0.96458938,\n",
       "       0.46546877, 0.90602089, 0.60403569, 0.92160556, 0.98798745,\n",
       "       0.0623013 , 0.08472982, 0.44559938, 0.76748898, 0.23356586])"
      ]
     },
     "execution_count": 3,
     "metadata": {},
     "output_type": "execute_result"
    }
   ],
   "source": [
    "y_pred = np.random.uniform(0,1, size=(100))\n",
    "y_pred"
   ]
  },
  {
   "cell_type": "code",
   "execution_count": 4,
   "id": "86373b60-9431-4f91-8b4c-6c4101436022",
   "metadata": {},
   "outputs": [
    {
     "ename": "IndentationError",
     "evalue": "expected an indented block after function definition on line 18 (1416240435.py, line 22)",
     "output_type": "error",
     "traceback": [
      "\u001b[0;36m  Cell \u001b[0;32mIn[4], line 22\u001b[0;36m\u001b[0m\n\u001b[0;31m    @staticmethod\u001b[0m\n\u001b[0m    ^\u001b[0m\n\u001b[0;31mIndentationError\u001b[0m\u001b[0;31m:\u001b[0m expected an indented block after function definition on line 18\n"
     ]
    }
   ],
   "source": [
    "class LogitcsRegression:\n",
    "\n",
    "    def __init__(self, learning_rate: float = 0.02, epochs: int = 500) -> None:\n",
    "        self.learning_rate = learning_rate\n",
    "        self.epochs = epochs\n",
    "        self.weight = None\n",
    "        self.bias = None\n",
    "\n",
    "    \n",
    "    @staticmethod\n",
    "    def bce(y_true: NDArray[int], y_pred: NDArray[float]) -> float:\n",
    "        summation = 0\n",
    "        for yi, yi_cap in zip(y_true, y_pred):\n",
    "            summation += (yi * yi_cap) + ((1 - yi) * (1 - np.log(yi_cap)))\n",
    "        return np.mean(summation)\n",
    "\n",
    "    @staticmethod\n",
    "    def linear_equation() -> None:\n",
    "        # z = w . x + b\n",
    "        JK\n",
    "        \n",
    "    \n",
    "    @staticmethod\n",
    "    def sigmoid(z: float) -> None:\n",
    "        return (1/(1+np.exp(-z)))\n",
    "\n",
    "    def fit(self, x_train: NDArray[float], y_train: NDArray[int]) -> None:\n",
    "        raise NotImplementedError\n",
    "        \n",
    "    def predicit(self) -> None:\n",
    "        raise NotImplementedError\n",
    "\n",
    "        "
   ]
  }
 ],
 "metadata": {
  "kernelspec": {
   "display_name": "Python 3 (ipykernel)",
   "language": "python",
   "name": "python3"
  },
  "language_info": {
   "codemirror_mode": {
    "name": "ipython",
    "version": 3
   },
   "file_extension": ".py",
   "mimetype": "text/x-python",
   "name": "python",
   "nbconvert_exporter": "python",
   "pygments_lexer": "ipython3",
   "version": "3.12.7"
  }
 },
 "nbformat": 4,
 "nbformat_minor": 5
}
