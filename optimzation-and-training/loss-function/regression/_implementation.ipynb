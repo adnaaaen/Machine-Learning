{
 "cells": [
  {
   "cell_type": "markdown",
   "id": "20f4962b-eb2b-43da-8725-04240c59564e",
   "metadata": {},
   "source": [
    "# Evaluation Metrics for Regression Model"
   ]
  },
  {
   "cell_type": "code",
   "execution_count": 1,
   "id": "110053dd-ca09-42c2-b77e-94e24d3a73f1",
   "metadata": {},
   "outputs": [],
   "source": [
    "import numpy as np\n",
    "from typing import Iterable"
   ]
  },
  {
   "cell_type": "code",
   "execution_count": 2,
   "id": "5184307b-f305-4c41-b120-d1447f103d0d",
   "metadata": {},
   "outputs": [],
   "source": [
    "# random model prediction data\n",
    "X = [10, 20, 30, 40, 50]\n",
    "Y_TRUE = [4232, 5342, 5634, 6353, 7534]\n",
    "\n",
    "# average prediction\n",
    "Y_PRED_AV = [4250, 5360, 5690, 6340, 7534]\n",
    "\n",
    "# good prediction\n",
    "Y_PRED_GO = [4233, 5344, 5635, 6354, 7534]\n",
    "\n",
    "# poor prediction\n",
    "Y_PRED_PO = [4400, 5600, 5800, 6700, 7900]"
   ]
  },
  {
   "cell_type": "markdown",
   "id": "4ec41ba4-5683-4994-9fa1-8049171ba03f",
   "metadata": {},
   "source": [
    "## Mean Squared Error (MSE)\n",
    "$$\\text{MSE} = \\frac{1}{n} \\sum_{i=1}^n \\left( y_i - \\hat{y}_i \\right)^2$$\n",
    "Where:\n",
    "\n",
    "- $n$ = Number of data points\n",
    "- $y_i$ = Actual value for the $i$-th data point\n",
    "- $\\hat{y}_i$ = Predicted value for the $i$-th data point\n",
    "- $(y_i - \\hat{y}_i)$ = Squared error"
   ]
  },
  {
   "cell_type": "markdown",
   "id": "fc6df46e-f07a-43be-97e0-81fa26cd1ad3",
   "metadata": {},
   "source": [
    "### From Scratch"
   ]
  },
  {
   "cell_type": "code",
   "execution_count": 3,
   "id": "5cfec96a-3adc-46a7-989e-a4ef4b403e5a",
   "metadata": {},
   "outputs": [],
   "source": [
    "def get_mean_squared_error(y_true: Iterable[float], y_pred: Iterable[float]) -> float:\n",
    "    \"\"\"perform mean squared error\n",
    "\n",
    "    Args:\n",
    "        y_true (Iterable[float]) : actual value\n",
    "        y_pred (Iterable[float]) : predicted value by model\n",
    "\n",
    "    Returns:\n",
    "        float : MSE\n",
    "    \"\"\"\n",
    "    summation = 0\n",
    "    n = len(y_true)\n",
    "    for i in range(n):\n",
    "        summation += np.pow((y_true[i] - y_pred[i]), 2)\n",
    "    return summation / n"
   ]
  },
  {
   "cell_type": "code",
   "execution_count": 4,
   "id": "691b3d44-25d7-4647-beeb-ad9fcb13cf14",
   "metadata": {},
   "outputs": [
    {
     "data": {
      "text/plain": [
       "np.float64(1.4)"
      ]
     },
     "execution_count": 4,
     "metadata": {},
     "output_type": "execute_result"
    }
   ],
   "source": [
    "# best fit model prediction\n",
    "get_mean_squared_error(Y_TRUE, Y_PRED_GO)"
   ]
  },
  {
   "cell_type": "code",
   "execution_count": 5,
   "id": "c752f5c7-3fe1-4978-b547-4a120c644ce0",
   "metadata": {},
   "outputs": [
    {
     "data": {
      "text/plain": [
       "np.float64(790.6)"
      ]
     },
     "execution_count": 5,
     "metadata": {},
     "output_type": "execute_result"
    }
   ],
   "source": [
    "# average fit model prediction\n",
    "get_mean_squared_error(Y_TRUE, Y_PRED_AV)"
   ]
  },
  {
   "cell_type": "code",
   "execution_count": 6,
   "id": "3664e8e7-e256-463c-b332-04031ea9f271",
   "metadata": {},
   "outputs": [
    {
     "data": {
      "text/plain": [
       "np.float64(75341.8)"
      ]
     },
     "execution_count": 6,
     "metadata": {},
     "output_type": "execute_result"
    }
   ],
   "source": [
    "# average fit model prediction\n",
    "get_mean_squared_error(Y_TRUE, Y_PRED_PO)"
   ]
  },
  {
   "cell_type": "markdown",
   "id": "fadafa01-9655-479b-adbc-59c97479787d",
   "metadata": {},
   "source": [
    "### Using sklearn"
   ]
  },
  {
   "cell_type": "code",
   "execution_count": 7,
   "id": "ed12004d-4fcb-4ca0-85f4-ed5671be01b8",
   "metadata": {},
   "outputs": [],
   "source": [
    "from sklearn.metrics import mean_squared_error"
   ]
  },
  {
   "cell_type": "code",
   "execution_count": 8,
   "id": "5366a47a-d66e-4d90-816e-0adc6927170b",
   "metadata": {},
   "outputs": [
    {
     "data": {
      "text/plain": [
       "np.float64(1.4)"
      ]
     },
     "execution_count": 8,
     "metadata": {},
     "output_type": "execute_result"
    }
   ],
   "source": [
    "# best fit model prediction\n",
    "mean_squared_error(Y_TRUE, Y_PRED_GO)"
   ]
  },
  {
   "cell_type": "code",
   "execution_count": 9,
   "id": "0eb89ae3-4c86-4d1c-bb5f-b688b8804e21",
   "metadata": {},
   "outputs": [
    {
     "data": {
      "text/plain": [
       "np.float64(790.6)"
      ]
     },
     "execution_count": 9,
     "metadata": {},
     "output_type": "execute_result"
    }
   ],
   "source": [
    "# Average fit model prediction\n",
    "mean_squared_error(Y_TRUE, Y_PRED_AV)"
   ]
  },
  {
   "cell_type": "code",
   "execution_count": 10,
   "id": "d57856eb-de8f-423e-add9-ae91cfe5f11c",
   "metadata": {},
   "outputs": [
    {
     "data": {
      "text/plain": [
       "np.float64(75341.8)"
      ]
     },
     "execution_count": 10,
     "metadata": {},
     "output_type": "execute_result"
    }
   ],
   "source": [
    "# worst fit model prediction\n",
    "mean_squared_error(Y_TRUE, Y_PRED_PO)"
   ]
  },
  {
   "cell_type": "markdown",
   "id": "c0c8c9ce-8d0b-448e-893b-afc87227b59d",
   "metadata": {},
   "source": [
    "## Mean Absolute Error (MAE)\n",
    "$$\\text{MAE} = \\frac{1}{n} \\sum_{i=1}^n \\left |y_i - \\hat{y}_i \\right|$$\n",
    "Where:\n",
    "\n",
    "- $n$ = Number of data points\n",
    "- $y_i$ = Actual value for the $i$-th data point\n",
    "- $\\hat{y}_i$ = Predicted value for the $i$-th data point\n",
    "- $|y_i - \\hat{y}_i|$ = Absolute error (difference between actual and predicted values)\n"
   ]
  },
  {
   "cell_type": "markdown",
   "id": "c5da6e69-c78a-4b56-b240-0cbebb6807e7",
   "metadata": {},
   "source": [
    "### From scratch"
   ]
  },
  {
   "cell_type": "code",
   "execution_count": 14,
   "id": "6bc27519-e3b3-4264-a7a3-1286f09b421b",
   "metadata": {},
   "outputs": [],
   "source": [
    "def get_mean_absolute_error(y_true: Iterable[float], y_pred: Iterable[float]) -> float:\n",
    "    \"\"\"perform mean absolute error\n",
    "\n",
    "    Args:\n",
    "        y_true (Iterable[float]) : actual value\n",
    "        y_pred (Iterable[float]) : predicted value by model\n",
    "\n",
    "    Returns:\n",
    "        float : MAE\n",
    "    \"\"\"\n",
    "\n",
    "    summation = 0\n",
    "    n = len(y_true)\n",
    "    for i in range(n):\n",
    "        summation += abs(y_true[i] - y_pred[i])\n",
    "\n",
    "    return summation / n"
   ]
  },
  {
   "cell_type": "code",
   "execution_count": 15,
   "id": "2853cc4d-4e99-483e-ac23-c5f1c5938388",
   "metadata": {},
   "outputs": [
    {
     "data": {
      "text/plain": [
       "1.0"
      ]
     },
     "execution_count": 15,
     "metadata": {},
     "output_type": "execute_result"
    }
   ],
   "source": [
    "# good fit model\n",
    "get_mean_absolute_error(Y_TRUE, Y_PRED_GO)"
   ]
  },
  {
   "cell_type": "code",
   "execution_count": 16,
   "id": "47503187-9bb5-4bef-bf8c-1e12900dd5e6",
   "metadata": {},
   "outputs": [
    {
     "data": {
      "text/plain": [
       "21.0"
      ]
     },
     "execution_count": 16,
     "metadata": {},
     "output_type": "execute_result"
    }
   ],
   "source": [
    "# average good fit model\n",
    "get_mean_absolute_error(Y_TRUE, Y_PRED_AV)"
   ]
  },
  {
   "cell_type": "code",
   "execution_count": 17,
   "id": "bef21b43-3780-4e76-96ad-246fe18ad618",
   "metadata": {},
   "outputs": [
    {
     "data": {
      "text/plain": [
       "261.0"
      ]
     },
     "execution_count": 17,
     "metadata": {},
     "output_type": "execute_result"
    }
   ],
   "source": [
    "# worst fit model\n",
    "get_mean_absolute_error(Y_TRUE, Y_PRED_PO)"
   ]
  },
  {
   "cell_type": "markdown",
   "id": "3d8951f3-bea3-4651-a73c-a7250d04b02b",
   "metadata": {},
   "source": [
    "### Using sklearn"
   ]
  },
  {
   "cell_type": "code",
   "execution_count": 18,
   "id": "11b52ca0-83a1-4bb1-a21b-8090b82b8ff7",
   "metadata": {},
   "outputs": [
    {
     "data": {
      "text/plain": [
       "np.float64(1.0)"
      ]
     },
     "execution_count": 18,
     "metadata": {},
     "output_type": "execute_result"
    }
   ],
   "source": [
    "from sklearn.metrics import mean_absolute_error\n",
    "\n",
    "# good fit model\n",
    "mean_absolute_error(Y_TRUE, Y_PRED_GO)"
   ]
  },
  {
   "cell_type": "code",
   "execution_count": 19,
   "id": "708a30e7-88ac-4bad-9770-a00c10e8f4d1",
   "metadata": {},
   "outputs": [
    {
     "data": {
      "text/plain": [
       "np.float64(21.0)"
      ]
     },
     "execution_count": 19,
     "metadata": {},
     "output_type": "execute_result"
    }
   ],
   "source": [
    "# average good fit model\n",
    "mean_absolute_error(Y_TRUE, Y_PRED_AV)"
   ]
  },
  {
   "cell_type": "code",
   "execution_count": 20,
   "id": "e61d3017-d63a-4cf7-8adb-a742c7f311a3",
   "metadata": {},
   "outputs": [
    {
     "data": {
      "text/plain": [
       "np.float64(261.0)"
      ]
     },
     "execution_count": 20,
     "metadata": {},
     "output_type": "execute_result"
    }
   ],
   "source": [
    "# worst fit model\n",
    "mean_absolute_error(Y_TRUE, Y_PRED_PO)"
   ]
  },
  {
   "cell_type": "code",
   "execution_count": null,
   "id": "13571bf1-61fa-4a3e-99e1-c3ed150fd603",
   "metadata": {},
   "outputs": [],
   "source": []
  }
 ],
 "metadata": {
  "kernelspec": {
   "display_name": "Python 3 (ipykernel)",
   "language": "python",
   "name": "python3"
  },
  "language_info": {
   "codemirror_mode": {
    "name": "ipython",
    "version": 3
   },
   "file_extension": ".py",
   "mimetype": "text/x-python",
   "name": "python",
   "nbconvert_exporter": "python",
   "pygments_lexer": "ipython3",
   "version": "3.12.7"
  }
 },
 "nbformat": 4,
 "nbformat_minor": 5
}
