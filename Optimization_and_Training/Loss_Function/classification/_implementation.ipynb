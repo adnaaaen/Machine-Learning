{
 "cells": [
  {
   "cell_type": "markdown",
   "id": "e1dc90ec-3110-443f-bc02-795b3d692742",
   "metadata": {},
   "source": [
    "# Loss Function in Classification"
   ]
  },
  {
   "cell_type": "code",
   "execution_count": 1,
   "id": "e6bbeaa6-fba1-4660-a322-24e1158bb4bf",
   "metadata": {},
   "outputs": [],
   "source": [
    "from sklearn.metrics import log_loss\n",
    "import numpy as np"
   ]
  },
  {
   "cell_type": "code",
   "execution_count": 40,
   "id": "5d1515ff-85d3-4602-878f-284f90f9c880",
   "metadata": {},
   "outputs": [],
   "source": [
    "Y_TRUE = [0, 1, 0, 1, 1, 1]\n",
    "Y_PROB = [0.9, 0.3, 0.8, 0.6, 0.8, 0.5]"
   ]
  },
  {
   "cell_type": "markdown",
   "id": "f3b117c3-52d9-4cc1-9126-247ed648f249",
   "metadata": {},
   "source": [
    "## Binary Cross Entropy (BCE) / Log Loss\n",
    "$$\n",
    "\\text{BCE Loss} = - \\frac{1}{n} \\sum_{i=1}^{n} \\left[ y_i \\cdot \\log(\\hat{y}_i) + (1 - y_i) \\cdot \\log(1 - \\hat{y}_i) \\right]\n",
    "$$\n",
    "\n",
    "Where:\n",
    "\n",
    "- $y_i$ is the actual label of the $i^{th}$ sample (0 or 1).\n",
    "- $\\hat{y}_i$ is the predicted probability of the sample belonging to class 1 (output of the sigmoid function).\n",
    "- $n$ is the number of samples."
   ]
  },
  {
   "cell_type": "markdown",
   "id": "28fe5ded-2e27-4c8e-8c08-7068945c1c76",
   "metadata": {},
   "source": [
    "#### **From scratch**"
   ]
  },
  {
   "cell_type": "code",
   "execution_count": 38,
   "id": "06f75ca3-81ec-4f74-9a67-dca966d6018a",
   "metadata": {},
   "outputs": [],
   "source": [
    "def get_log_loss(y_true: list[int], y_prob: list[int]) -> float:\n",
    "    \n",
    "    \"\"\" generate log loss\n",
    "\n",
    "    Args:\n",
    "        y_true (Iterable[int]) : actual value\n",
    "        y_prob (Iterable[float]) : probability of prediction\n",
    "\n",
    "    Returns:\n",
    "        float : log loss\n",
    "    \"\"\"\n",
    "    summation = 0\n",
    "    n = len(y_true)\n",
    "\n",
    "    for i in range(n):\n",
    "        summation += (y_true[i] * np.log(y_prob[i])) + (1 - y_true[i]) * (np.log(1 - y_prob[i]))\n",
    "\n",
    "    bce = (summation / n)\n",
    "    return -bce"
   ]
  },
  {
   "cell_type": "code",
   "execution_count": 39,
   "id": "bdb624f7-eabf-43a9-89e9-e092ea760b7a",
   "metadata": {},
   "outputs": [
    {
     "data": {
      "text/plain": [
       "np.float64(1.0905186942323712)"
      ]
     },
     "execution_count": 39,
     "metadata": {},
     "output_type": "execute_result"
    }
   ],
   "source": [
    "get_log_loss(y_true, y_pred)"
   ]
  },
  {
   "cell_type": "markdown",
   "id": "e5ea1f09-d646-4c1e-8afa-15a1b5f1a7f1",
   "metadata": {},
   "source": [
    "#### **Using sklearn**"
   ]
  },
  {
   "cell_type": "code",
   "execution_count": 41,
   "id": "143d8a3e-95a9-425f-8002-63c9ba1b2f36",
   "metadata": {},
   "outputs": [
    {
     "data": {
      "text/plain": [
       "1.0905186942323712"
      ]
     },
     "execution_count": 41,
     "metadata": {},
     "output_type": "execute_result"
    }
   ],
   "source": [
    "from sklearn.metrics import log_loss\n",
    "\n",
    "log_loss(Y_TRUE, Y_PROB)"
   ]
  },
  {
   "cell_type": "markdown",
   "id": "3a37082a-9536-41aa-a754-5cef593aa6a4",
   "metadata": {},
   "source": [
    "## Categorical Cross Entropy (CCE)"
   ]
  },
  {
   "cell_type": "markdown",
   "id": "9596a883-f97f-49fe-9302-e36b741814c6",
   "metadata": {},
   "source": [
    "#### **From scratch**"
   ]
  },
  {
   "cell_type": "markdown",
   "id": "700487ca-0332-43e0-ab39-74f12272d784",
   "metadata": {},
   "source": [
    "#### **Using sklearn**"
   ]
  },
  {
   "cell_type": "code",
   "execution_count": 1,
   "id": "aaca612b-c05c-45cc-9b4b-b51622055776",
   "metadata": {},
   "outputs": [],
   "source": [
    "# TODO:"
   ]
  },
  {
   "cell_type": "code",
   "execution_count": null,
   "id": "9f86195e-db58-4b7c-9ecc-76826426699e",
   "metadata": {},
   "outputs": [],
   "source": []
  }
 ],
 "metadata": {
  "kernelspec": {
   "display_name": "Python 3 (ipykernel)",
   "language": "python",
   "name": "python3"
  },
  "language_info": {
   "codemirror_mode": {
    "name": "ipython",
    "version": 3
   },
   "file_extension": ".py",
   "mimetype": "text/x-python",
   "name": "python",
   "nbconvert_exporter": "python",
   "pygments_lexer": "ipython3",
   "version": "3.12.7"
  }
 },
 "nbformat": 4,
 "nbformat_minor": 5
}
