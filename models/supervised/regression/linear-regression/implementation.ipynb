{
 "cells": [
  {
   "cell_type": "markdown",
   "id": "05feb880-2444-435d-a474-add27b91f485",
   "metadata": {},
   "source": [
    "❤️ Made By Adnan."
   ]
  },
  {
   "cell_type": "code",
   "execution_count": 2,
   "id": "715b5f5d-0d69-43a8-b2f0-b96ac494c9a3",
   "metadata": {},
   "outputs": [],
   "source": [
    "import numpy as np\n",
    "from matplotlib import pyplot as plt\n",
    "import seaborn as sns\n",
    "\n",
    "from sklearn.datasets import make_regression\n",
    "from sklearn.model_selection import train_test_split\n",
    "from sklearn.metrics import mean_absolute_error, mean_squared_error\n",
    "\n",
    "# types\n",
    "from typing import Any\n",
    "from numpy.typing import NDArray"
   ]
  },
  {
   "cell_type": "code",
   "execution_count": 3,
   "id": "f4861c23-41fa-45dd-86c0-a1a40460adb2",
   "metadata": {},
   "outputs": [],
   "source": [
    "raw_x, raw_y = make_regression(n_samples=1000, random_state=8376)"
   ]
  },
  {
   "cell_type": "code",
   "execution_count": null,
   "id": "adf3a8b3-8d0c-4a96-a68e-5437df8631f6",
   "metadata": {},
   "outputs": [],
   "source": [
    "class LinearRegression:\n",
    "\n",
    "    def __init__(self, learning_rate: float = 0.001, epochs: int = 500) -> None:\n",
    "        self.learning_rate = learning_rate\n",
    "        self.epochs = epochs\n",
    "        # model params\n",
    "        self._coeffient = None\n",
    "        self._intercept = None\n",
    "\n",
    "    def linear_equation(self) -> NDArray:\n",
    "        # y = m . x + c\n",
    "        return np.dot(self.x_train, self._coeffient) + self._intercept\n",
    "\n",
    "    def gradient_descent(self) -> None:\n",
    "        dw = []\n",
    "        each_b = 0\n",
    "        for x_i, y_i, y_cap_i in zip(self.x_train.T, self.y_train, self.y_pred):\n",
    "            each_w = 0\n",
    "            each_b += (y_cap_i - y_i)\n",
    "            for i in x_i:\n",
    "                each_w += i * (y_cap_i - y_i)\n",
    "            result = -(2 / self.row) * each_w\n",
    "            dw.append(result)\n",
    "        db = -2*(2/self.row) * each_b\n",
    "             \n",
    "        return np.array(dw), np.array(db)\n",
    "        \n",
    "    def update_params(self) -> None:\n",
    "        dw, db = self.gradient_descent()\n",
    "        self._coeffient = self._coeffient - self.learning_rate * dw\n",
    "        self._intercept = self._intercept - self.learning_rate * db\n",
    "\n",
    "    def fit(self, X: NDArray, Y: NDArray) -> bool:\n",
    "        self.row, self.col = X.shape\n",
    "        self.x_train = X\n",
    "        self.y_train = Y\n",
    "        \n",
    "        self._coeffient = np.random.randn(self.col) * 0.01\n",
    "        self._intercept = np.random.randn()\n",
    "        for _ in range(self.epochs):\n",
    "            self.y_pred = self.linear_equation()\n",
    "            self.update_params()\n",
    "        print(\"Training Completed\")\n"
   ]
  }
 ],
 "metadata": {
  "kernelspec": {
   "display_name": "Python 3 (ipykernel)",
   "language": "python",
   "name": "python3"
  },
  "language_info": {
   "codemirror_mode": {
    "name": "ipython",
    "version": 3
   },
   "file_extension": ".py",
   "mimetype": "text/x-python",
   "name": "python",
   "nbconvert_exporter": "python",
   "pygments_lexer": "ipython3",
   "version": "3.12.7"
  }
 },
 "nbformat": 4,
 "nbformat_minor": 5
}
