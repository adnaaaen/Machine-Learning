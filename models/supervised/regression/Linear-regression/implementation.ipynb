{
 "cells": [
  {
   "cell_type": "markdown",
   "id": "05feb880-2444-435d-a474-add27b91f485",
   "metadata": {},
   "source": [
    "❤️ Made By Adnan."
   ]
  },
  {
   "cell_type": "code",
   "execution_count": 2,
   "id": "715b5f5d-0d69-43a8-b2f0-b96ac494c9a3",
   "metadata": {},
   "outputs": [],
   "source": [
    "import numpy as np\n",
    "from matplotlib import pyplot as plt\n",
    "import seaborn as sns\n",
    "\n",
    "from sklearn.datasets import make_regression\n",
    "from sklearn.model_selection import train_test_split\n",
    "from sklearn.metrics import mean_absolute_error, mean_squared_error\n",
    "\n",
    "# types\n",
    "from typing import Any\n",
    "from numpy.typing import NDArray"
   ]
  },
  {
   "cell_type": "code",
   "execution_count": 3,
   "id": "f4861c23-41fa-45dd-86c0-a1a40460adb2",
   "metadata": {},
   "outputs": [],
   "source": [
    "raw_x, raw_y = make_regression(n_samples=1000, random_state=8376)"
   ]
  }
 ],
 "metadata": {
  "kernelspec": {
   "display_name": "Python 3 (ipykernel)",
   "language": "python",
   "name": "python3"
  },
  "language_info": {
   "codemirror_mode": {
    "name": "ipython",
    "version": 3
   },
   "file_extension": ".py",
   "mimetype": "text/x-python",
   "name": "python",
   "nbconvert_exporter": "python",
   "pygments_lexer": "ipython3",
   "version": "3.12.7"
  }
 },
 "nbformat": 4,
 "nbformat_minor": 5
}
