{
 "cells": [
  {
   "cell_type": "markdown",
   "id": "43158385-0480-4bf5-ac43-da56406d777b",
   "metadata": {},
   "source": [
    "# Implementation of Logistic Regression"
   ]
  },
  {
   "cell_type": "code",
   "execution_count": 1,
   "id": "df6a6dcb-3c38-4554-a7b1-60016f387d6b",
   "metadata": {},
   "outputs": [],
   "source": [
    "import numpy as np\n",
    "import seaborn as sns\n",
    "from sklearn.datasets import make_classification"
   ]
  },
  {
   "cell_type": "code",
   "execution_count": 2,
   "id": "163a5a69-0cc0-4078-8436-ba2f4861265f",
   "metadata": {},
   "outputs": [],
   "source": [
    "x, y = make_classification()"
   ]
  },
  {
   "cell_type": "code",
   "execution_count": 3,
   "id": "1cfd44a3-7806-4531-b4e4-89521f06f66b",
   "metadata": {},
   "outputs": [
    {
     "data": {
      "text/plain": [
       "array([[ 0.35657103, -0.22609559,  0.1446475 , ...,  0.55378642,\n",
       "         0.5224974 , -0.29684024],\n",
       "       [-0.18003479, -0.72429658, -0.04744767, ...,  0.22108747,\n",
       "        -0.28431463,  1.50972392],\n",
       "       [-0.58253662, -0.12964548, -0.23333861, ...,  0.44718454,\n",
       "        -1.17878113, -1.20259186],\n",
       "       ...,\n",
       "       [ 0.14217404,  0.4033029 ,  0.69784039, ...,  0.30700112,\n",
       "        -0.66706916,  0.28271509],\n",
       "       [ 0.4112029 , -0.39116345,  0.14720305, ..., -0.33402724,\n",
       "         0.1413599 ,  0.14369687],\n",
       "       [ 0.08859674, -0.70214273,  0.58472255, ..., -0.46007944,\n",
       "         0.78662253, -0.95620304]])"
      ]
     },
     "execution_count": 3,
     "metadata": {},
     "output_type": "execute_result"
    }
   ],
   "source": [
    "x"
   ]
  },
  {
   "cell_type": "code",
   "execution_count": 4,
   "id": "09745217-cfbd-41a8-962f-56b6dfaa5822",
   "metadata": {},
   "outputs": [
    {
     "data": {
      "text/plain": [
       "array([0, 1, 1, 1, 1, 1, 0, 0, 0, 1, 0, 0, 1, 0, 0, 1, 0, 0, 0, 0, 0, 0,\n",
       "       0, 0, 1, 1, 0, 0, 0, 0, 0, 0, 0, 1, 1, 0, 1, 1, 0, 1, 1, 0, 1, 0,\n",
       "       0, 1, 1, 1, 1, 1, 0, 1, 0, 0, 1, 0, 1, 0, 0, 1, 1, 0, 0, 0, 1, 0,\n",
       "       1, 1, 0, 1, 0, 0, 1, 1, 1, 1, 0, 1, 0, 1, 1, 1, 1, 1, 1, 0, 1, 1,\n",
       "       1, 0, 0, 1, 1, 0, 0, 1, 0, 0, 1, 1])"
      ]
     },
     "execution_count": 4,
     "metadata": {},
     "output_type": "execute_result"
    }
   ],
   "source": [
    "y"
   ]
  },
  {
   "cell_type": "code",
   "execution_count": 5,
   "id": "8406fd7e-6131-4e6e-bf21-cc1bbfe167f7",
   "metadata": {},
   "outputs": [],
   "source": [
    "arr1 = np.array([1, 2, 3, 4])\n",
    "arr2 = np.array([2, 3, 4, 5])"
   ]
  },
  {
   "cell_type": "code",
   "execution_count": 7,
   "id": "86ca2c55-716f-4364-aef4-f09d82fae271",
   "metadata": {},
   "outputs": [
    {
     "ename": "TypeError",
     "evalue": "cross() missing 1 required positional argument: 'b'",
     "output_type": "error",
     "traceback": [
      "\u001b[0;31m---------------------------------------------------------------------------\u001b[0m",
      "\u001b[0;31mTypeError\u001b[0m                                 Traceback (most recent call last)",
      "Cell \u001b[0;32mIn[7], line 1\u001b[0m\n\u001b[0;32m----> 1\u001b[0m \u001b[43mnp\u001b[49m\u001b[38;5;241;43m.\u001b[39;49m\u001b[43mcross\u001b[49m\u001b[43m(\u001b[49m\u001b[43m[\u001b[49m\u001b[43marr1\u001b[49m\u001b[43m,\u001b[49m\u001b[43m \u001b[49m\u001b[43marr2\u001b[49m\u001b[43m]\u001b[49m\u001b[43m)\u001b[49m\n",
      "\u001b[0;31mTypeError\u001b[0m: cross() missing 1 required positional argument: 'b'"
     ]
    }
   ],
   "source": [
    "np.cross([arr1, arr2])"
   ]
  },
  {
   "cell_type": "code",
   "execution_count": 8,
   "id": "b2845e82-7d5f-48a6-a807-51f0fca0da77",
   "metadata": {},
   "outputs": [
    {
     "data": {
      "text/plain": [
       "np.int64(40)"
      ]
     },
     "execution_count": 8,
     "metadata": {},
     "output_type": "execute_result"
    }
   ],
   "source": [
    "arr1.dot(arr2)"
   ]
  },
  {
   "cell_type": "code",
   "execution_count": 9,
   "id": "3d22cc14-0f7b-4425-b367-1d58602ddc80",
   "metadata": {},
   "outputs": [
    {
     "data": {
      "text/plain": [
       "array([ 2,  6, 12, 20])"
      ]
     },
     "execution_count": 9,
     "metadata": {},
     "output_type": "execute_result"
    }
   ],
   "source": [
    "arr1 * arr2"
   ]
  }
 ],
 "metadata": {
  "kernelspec": {
   "display_name": "Python 3 (ipykernel)",
   "language": "python",
   "name": "python3"
  },
  "language_info": {
   "codemirror_mode": {
    "name": "ipython",
    "version": 3
   },
   "file_extension": ".py",
   "mimetype": "text/x-python",
   "name": "python",
   "nbconvert_exporter": "python",
   "pygments_lexer": "ipython3",
   "version": "3.12.7"
  }
 },
 "nbformat": 4,
 "nbformat_minor": 5
}
