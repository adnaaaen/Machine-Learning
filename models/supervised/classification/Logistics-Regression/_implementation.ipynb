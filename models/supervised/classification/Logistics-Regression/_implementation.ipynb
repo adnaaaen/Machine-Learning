{
  "nbformat": 4,
  "nbformat_minor": 0,
  "metadata": {
    "colab": {
      "provenance": [],
      "authorship_tag": "ABX9TyO180ftHlVoGw+fVGrcJglY",
      "include_colab_link": true
    },
    "kernelspec": {
      "name": "python3",
      "display_name": "Python 3"
    },
    "language_info": {
      "name": "python"
    }
  },
  "cells": [
    {
      "cell_type": "markdown",
      "metadata": {
        "id": "view-in-github",
        "colab_type": "text"
      },
      "source": [
        "<a href=\"https://colab.research.google.com/github/adnaaaen/machine-learning-notes/blob/main/models/supervised/classification/Logistics-Regression/_implementation.ipynb\" target=\"_parent\"><img src=\"https://colab.research.google.com/assets/colab-badge.svg\" alt=\"Open In Colab\"/></a>"
      ]
    },
    {
      "cell_type": "markdown",
      "source": [
        "# Logistic Regression From Scratch"
      ],
      "metadata": {
        "id": "6ydkcgS0wBn_"
      }
    },
    {
      "cell_type": "code",
      "source": [
        "from typing import Any\n",
        "\n",
        "import numpy as np\n",
        "from numpy.typing import NDArray\n",
        "\n",
        "from sklearn.datasets import make_classification\n",
        "from sklearn.model_selection import train_test_split\n",
        "from sklearn.metrics import accuracy_score, confusion_matrix"
      ],
      "metadata": {
        "id": "BzEU2BP4wCdF"
      },
      "execution_count": 1,
      "outputs": []
    },
    {
      "cell_type": "code",
      "source": [
        "raw_x, raw_y = make_classification(n_features=10,n_samples=1000, random_state=3442)"
      ],
      "metadata": {
        "id": "QSwW_KsswHGp"
      },
      "execution_count": 2,
      "outputs": []
    },
    {
      "cell_type": "code",
      "source": [
        "raw_x.shape, raw_y.shape"
      ],
      "metadata": {
        "colab": {
          "base_uri": "https://localhost:8080/"
        },
        "id": "vtNGDjsWwKIb",
        "outputId": "9fc53fc8-541e-44d0-cf26-469a9150b121"
      },
      "execution_count": 3,
      "outputs": [
        {
          "output_type": "execute_result",
          "data": {
            "text/plain": [
              "((1000, 10), (1000,))"
            ]
          },
          "metadata": {},
          "execution_count": 3
        }
      ]
    },
    {
      "cell_type": "code",
      "source": [
        "raw_x[:5]"
      ],
      "metadata": {
        "colab": {
          "base_uri": "https://localhost:8080/"
        },
        "id": "lXw1er_wwKEA",
        "outputId": "35cf1561-5b64-47a1-ba9f-7d37b098140a"
      },
      "execution_count": 4,
      "outputs": [
        {
          "output_type": "execute_result",
          "data": {
            "text/plain": [
              "array([[-0.56573764, -1.12659397, -1.58488824,  0.047902  ,  0.60861322,\n",
              "        -1.23263319, -0.36952168, -0.5890378 ,  0.12181396, -1.57697136],\n",
              "       [ 0.00678233, -0.84560635, -0.41794588, -1.02328482, -0.51747583,\n",
              "         0.1463818 ,  0.78425481,  0.07079281,  0.0927115 ,  0.24143793],\n",
              "       [ 0.75739895,  1.21942221,  1.37968123, -0.3908939 , -0.88958722,\n",
              "         0.86788148, -0.26789949, -0.40195265,  1.06290301,  1.08675515],\n",
              "       [-1.14172981,  1.48598207,  0.70375216,  0.62227436,  1.39281664,\n",
              "        -0.29987348,  0.58863519, -0.83229884,  0.40897603, -0.48098127],\n",
              "       [ 1.84484214, -1.11423938, -0.12115165, -1.31060452, -0.4074719 ,\n",
              "         0.78941927, -0.59384031, -0.86682628,  0.70957145,  1.11146838]])"
            ]
          },
          "metadata": {},
          "execution_count": 4
        }
      ]
    },
    {
      "cell_type": "code",
      "source": [
        "x_train, x_test, y_train, y_test = train_test_split(raw_x, raw_y, random_state=3453, test_size=.2)\n",
        "(x_train.shape, y_train.shape), (x_test.shape, y_test.shape)"
      ],
      "metadata": {
        "colab": {
          "base_uri": "https://localhost:8080/"
        },
        "id": "xgnZcqDhwJ-3",
        "outputId": "2f5cc7d8-a3bb-46b9-a258-e83c1d729a4f"
      },
      "execution_count": 5,
      "outputs": [
        {
          "output_type": "execute_result",
          "data": {
            "text/plain": [
              "(((800, 10), (800,)), ((200, 10), (200,)))"
            ]
          },
          "metadata": {},
          "execution_count": 5
        }
      ]
    },
    {
      "cell_type": "code",
      "source": [
        "class LogisticRegression:\n",
        "    \"\"\"implement logistic regression from scratch\"\"\"\n",
        "\n",
        "    def __init__(self, learning_rate: float = 0.001, epochs: int = 500) -> None:\n",
        "        \"\"\"initializing model & hyper parameters\"\"\"\n",
        "\n",
        "        self.learning_rate = learning_rate\n",
        "        self.epochs = epochs\n",
        "        self.bias = None\n",
        "        self.weight= None\n",
        "\n",
        "    @staticmethod\n",
        "    def linear_equation(x: NDArray[np.float64], w: NDArray[np.float64], b: float) -> float:\n",
        "        if x.shape[1] != w.shape[0]:\n",
        "            raise ValueError(\"X and W are mismatched column count\")\n",
        "\n",
        "        logits = np.dot(x, w) + b\n",
        "        return  logits\n",
        "\n",
        "    @staticmethod\n",
        "    def sigmoid(z: float) -> float:\n",
        "        return (1/(1+np.exp(-z)))\n",
        "\n",
        "    @staticmethod\n",
        "    def bce(y_true: NDArray, y_pred: NDArray) -> float:\n",
        "        summation = 0\n",
        "        for y_t, y_p in zip(y_true, y_pred):\n",
        "            # log_loss = (y * log(y_cap)) + (1-y) * (1-log(Y_cap))\n",
        "            summation += (y_t * y_p) + ((1 - y_t) * (1 - np.log(y_p)))\n",
        "\n",
        "        return np.mean(summation)\n",
        "\n",
        "    @staticmethod\n",
        "    def get_dw(y_true: NDArray[int], y_prob: NDArray[float], x: NDArray[float]) -> float:\n",
        "        \"\"\"generate partial derivative of loss with respect to weight\n",
        "\n",
        "            Equation:\n",
        "                dw = 1/n . y_prob_i - y_true_i . x_i\n",
        "        \"\"\"\n",
        "        error = y_prob - y_true\n",
        "        dw = []\n",
        "        for each in x.T:\n",
        "            result = np.mean([np.round(a*b, 3) for a, b in zip(error, each)])\n",
        "            dw.append(result)\n",
        "        return np.array(dw)\n",
        "\n",
        "\n",
        "    @staticmethod\n",
        "    def get_db(y_true: NDArray[int], y_prob: NDArray[float]) -> float:\n",
        "        \"\"\"generate partial derivative of loss with respect to bias\"\"\"\n",
        "        error = y_prob - y_true\n",
        "        return np.mean(error)\n",
        "\n",
        "\n",
        "    def update_params(self, y_prob: NDArray, y_true: NDArray, x: NDArray) -> tuple[float, float]:\n",
        "        \"\"\"\n",
        "        Returns:\n",
        "            tuple[float, float] : (weight, bias)\n",
        "        \"\"\"\n",
        "        new_weight = self.weight - (self.learning_rate * self.get_dw(y_prob=y_prob, y_true=y_true, x=x))\n",
        "        new_bias = self.bias - (self.learning_rate * self.get_db(y_prob=y_prob, y_true=y_true))\n",
        "        return (new_weight, new_bias)\n",
        "\n",
        "\n",
        "    def fit(self, x: NDArray[np.float64], y: NDArray[np.int16]) -> Any:\n",
        "        \"\"\"train the model\n",
        "\n",
        "        Args:\n",
        "            x: (ndarray) : Feature matrix with shape (n_samples, n_features)\n",
        "            y: (ndarray) : Target matrix with shape (n_samples,)\n",
        "\n",
        "        Return:\n",
        "            Any\n",
        "\n",
        "        Raise:\n",
        "            ValueError : if x and y have mismatched length\n",
        "\n",
        "        \"\"\"\n",
        "        if x.shape[0] != y.shape[0]:\n",
        "            raise ValueError(f\"x and y have mismatched shape x: {x.shape[0]} y:{x.shape[0]}\")\n",
        "\n",
        "        self.weight = np.random.randn(x.shape[1]) * .01\n",
        "        self.bias = 0\n",
        "\n",
        "        for _ in range(self.epochs):\n",
        "            logits = self.linear_equation(x=x, w=self.weight, b=self.bias)\n",
        "            prob = [self.sigmoid(each) for each in logits]\n",
        "\n",
        "            self.weight, self.bias = self.update_params(x=x, y_prob=prob, y_true=y)\n",
        "        print(\"training completed\")\n",
        "\n",
        "    def predict(self, x: np.ndarray) -> Any:\n",
        "        pred_logits = self.linear_equation(x=x, w=self.weight, b=self.bias)\n",
        "        pred_prob = [self.sigmoid(each) for each in pred_logits]\n",
        "\n",
        "        result = list(map(lambda x: 1 if x > .5 else 0, pred_prob))\n",
        "        return np.array(result)"
      ],
      "metadata": {
        "id": "laZIJHU6wJ0g"
      },
      "execution_count": 6,
      "outputs": []
    },
    {
      "cell_type": "code",
      "source": [
        "model = LogisticRegression()\n",
        "model.fit(x=x_train, y=y_train)"
      ],
      "metadata": {
        "colab": {
          "base_uri": "https://localhost:8080/"
        },
        "id": "SVNh5HO3wTwN",
        "outputId": "08c4a626-2ad8-4fc9-cfc9-3911d85bea65"
      },
      "execution_count": 7,
      "outputs": [
        {
          "output_type": "stream",
          "name": "stdout",
          "text": [
            "training completed\n"
          ]
        }
      ]
    },
    {
      "cell_type": "code",
      "source": [
        "model.weight"
      ],
      "metadata": {
        "colab": {
          "base_uri": "https://localhost:8080/"
        },
        "id": "ZM8nShkqwX29",
        "outputId": "acd32506-599d-4c3f-d5d8-611c36019d8f"
      },
      "execution_count": 8,
      "outputs": [
        {
          "output_type": "execute_result",
          "data": {
            "text/plain": [
              "array([-0.01397125,  0.20437732,  0.12497499,  0.00802037, -0.00960862,\n",
              "       -0.00256866, -0.00062825,  0.00024206,  0.02921952, -0.01035562])"
            ]
          },
          "metadata": {},
          "execution_count": 8
        }
      ]
    },
    {
      "cell_type": "code",
      "source": [
        "model.bias"
      ],
      "metadata": {
        "colab": {
          "base_uri": "https://localhost:8080/"
        },
        "id": "6yytq9fewdMa",
        "outputId": "07216f85-cd4a-4c6a-9b98-b419cb798373"
      },
      "execution_count": 9,
      "outputs": [
        {
          "output_type": "execute_result",
          "data": {
            "text/plain": [
              "0.004714398535523489"
            ]
          },
          "metadata": {},
          "execution_count": 9
        }
      ]
    },
    {
      "cell_type": "code",
      "source": [
        "y_pred = model.predict(x=x_test)\n",
        "y_pred"
      ],
      "metadata": {
        "colab": {
          "base_uri": "https://localhost:8080/"
        },
        "id": "ap0ONysrwcye",
        "outputId": "35a8f48e-888b-4b7f-f197-944f1790de0e"
      },
      "execution_count": 10,
      "outputs": [
        {
          "output_type": "execute_result",
          "data": {
            "text/plain": [
              "array([0, 1, 0, 1, 0, 0, 0, 1, 0, 0, 1, 0, 0, 1, 0, 0, 0, 0, 1, 0, 0, 0,\n",
              "       0, 1, 0, 0, 0, 1, 0, 0, 0, 0, 1, 1, 0, 0, 1, 0, 1, 0, 0, 1, 0, 0,\n",
              "       1, 0, 1, 1, 1, 0, 0, 1, 1, 1, 1, 0, 0, 1, 0, 0, 0, 1, 1, 1, 0, 0,\n",
              "       0, 1, 0, 1, 1, 1, 1, 1, 0, 1, 1, 1, 0, 0, 0, 1, 0, 1, 0, 1, 0, 0,\n",
              "       0, 0, 0, 1, 1, 1, 0, 1, 0, 0, 1, 0, 0, 0, 0, 0, 0, 1, 1, 1, 1, 0,\n",
              "       0, 0, 1, 1, 1, 0, 1, 1, 1, 1, 0, 0, 1, 0, 1, 0, 0, 0, 0, 1, 0, 0,\n",
              "       0, 0, 0, 1, 1, 1, 0, 0, 0, 1, 1, 0, 1, 0, 1, 1, 0, 0, 0, 0, 0, 0,\n",
              "       0, 0, 1, 0, 1, 0, 1, 1, 0, 1, 0, 0, 1, 1, 0, 0, 1, 0, 0, 0, 0, 0,\n",
              "       1, 1, 0, 0, 1, 0, 0, 1, 0, 1, 1, 1, 0, 0, 1, 1, 1, 1, 0, 1, 1, 0,\n",
              "       0, 0])"
            ]
          },
          "metadata": {},
          "execution_count": 10
        }
      ]
    },
    {
      "cell_type": "code",
      "source": [
        "y_test"
      ],
      "metadata": {
        "colab": {
          "base_uri": "https://localhost:8080/"
        },
        "id": "Pv417ltYwll4",
        "outputId": "01f8c4ae-918e-4315-9e0d-6d5b0464ffae"
      },
      "execution_count": 11,
      "outputs": [
        {
          "output_type": "execute_result",
          "data": {
            "text/plain": [
              "array([0, 1, 0, 1, 0, 0, 0, 1, 0, 0, 1, 0, 1, 1, 1, 0, 0, 0, 1, 0, 0, 0,\n",
              "       0, 1, 0, 0, 0, 1, 0, 0, 0, 0, 1, 1, 0, 0, 1, 0, 1, 1, 0, 1, 0, 0,\n",
              "       1, 0, 1, 1, 1, 0, 1, 1, 1, 1, 1, 0, 0, 1, 0, 0, 0, 1, 1, 1, 0, 0,\n",
              "       0, 1, 0, 1, 1, 1, 1, 1, 0, 1, 1, 1, 0, 0, 0, 1, 0, 0, 0, 1, 0, 0,\n",
              "       0, 0, 0, 1, 1, 1, 0, 1, 0, 0, 1, 1, 0, 0, 0, 0, 0, 1, 1, 1, 1, 0,\n",
              "       1, 0, 1, 1, 1, 0, 1, 1, 1, 1, 1, 0, 1, 0, 1, 0, 0, 0, 0, 1, 1, 0,\n",
              "       0, 0, 0, 1, 1, 1, 0, 0, 0, 1, 1, 0, 1, 0, 1, 1, 0, 0, 0, 0, 0, 0,\n",
              "       0, 0, 1, 0, 1, 1, 1, 1, 0, 1, 0, 1, 1, 1, 0, 0, 1, 0, 0, 0, 0, 0,\n",
              "       1, 0, 1, 0, 1, 0, 0, 1, 0, 1, 1, 1, 0, 0, 1, 1, 1, 1, 0, 1, 1, 0,\n",
              "       0, 0])"
            ]
          },
          "metadata": {},
          "execution_count": 11
        }
      ]
    },
    {
      "cell_type": "code",
      "source": [
        "tn, fp, fn, tp = confusion_matrix(y_test, y_pred).ravel()\n",
        "print(f\"TN : {tn}\\nFP : {fp}\\nFN : {fn}\\nTP : {tp}\")"
      ],
      "metadata": {
        "colab": {
          "base_uri": "https://localhost:8080/"
        },
        "id": "RFnYf2CrwlhA",
        "outputId": "63b1b7cf-ec6a-4f29-9393-9536e8b5c8aa"
      },
      "execution_count": 12,
      "outputs": [
        {
          "output_type": "stream",
          "name": "stdout",
          "text": [
            "TN : 104\n",
            "FP : 2\n",
            "FN : 11\n",
            "TP : 83\n"
          ]
        }
      ]
    },
    {
      "cell_type": "code",
      "source": [
        "test_acc = accuracy_score(y_test, y_pred) * 100\n",
        "print(f\"Test Accuracy is {test_acc}\")"
      ],
      "metadata": {
        "colab": {
          "base_uri": "https://localhost:8080/"
        },
        "id": "48fKDWzQwlKr",
        "outputId": "f706da68-72a0-4376-ad34-e749879d5526"
      },
      "execution_count": 13,
      "outputs": [
        {
          "output_type": "stream",
          "name": "stdout",
          "text": [
            "Test Accuracy is 93.5\n"
          ]
        }
      ]
    },
    {
      "cell_type": "code",
      "source": [
        "y_pred_train = model.predict(x_train)\n",
        "train_acc = accuracy_score(y_train, y_pred_train) * 100\n",
        "print(f\"Train Accuracy is {train_acc}\")"
      ],
      "metadata": {
        "colab": {
          "base_uri": "https://localhost:8080/"
        },
        "id": "dr3kNa_bwqAE",
        "outputId": "66812cfe-1078-4be8-843d-d5acc5cc10cf"
      },
      "execution_count": 14,
      "outputs": [
        {
          "output_type": "stream",
          "name": "stdout",
          "text": [
            "Train Accuracy is 92.125\n"
          ]
        }
      ]
    }
  ]
}