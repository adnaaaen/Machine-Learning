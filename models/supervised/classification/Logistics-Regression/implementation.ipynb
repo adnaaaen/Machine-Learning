{
 "cells": [
  {
   "cell_type": "markdown",
   "id": "d302a4e0-6293-4b17-9733-5fab2ba8ecc9",
   "metadata": {},
   "source": [
    "# Logistic Regression From Scratch"
   ]
  },
  {
   "cell_type": "code",
   "execution_count": 53,
   "id": "e5d0de93-d756-45b4-ae54-3f61f6cb8968",
   "metadata": {},
   "outputs": [],
   "source": [
    "from typing import Any\n",
    "\n",
    "import numpy as np\n",
    "from numpy.typing import NDArray\n",
    "\n",
    "from sklearn.datasets import make_classification\n",
    "from sklearn.model_selection import train_test_split\n",
    "from sklearn.preprocessing import OneHotEncoder\n",
    "from sklearn.metrics import accuracy_score, confusion_matrix"
   ]
  },
  {
   "cell_type": "code",
   "execution_count": 54,
   "id": "d4de36c8-d9a2-410c-a064-cf08ef851f72",
   "metadata": {},
   "outputs": [],
   "source": [
    "raw_x, raw_y = make_classification(n_features=10,n_samples=1000, random_state=3442)"
   ]
  },
  {
   "cell_type": "code",
   "execution_count": 55,
   "id": "6f6d8a9e-5100-454e-bf25-16ee1cfc59d6",
   "metadata": {},
   "outputs": [
    {
     "data": {
      "text/plain": [
       "((1000, 10), (1000,))"
      ]
     },
     "execution_count": 55,
     "metadata": {},
     "output_type": "execute_result"
    }
   ],
   "source": [
    "raw_x.shape, raw_y.shape"
   ]
  },
  {
   "cell_type": "code",
   "execution_count": 56,
   "id": "e5ffde6c-5185-4250-9abe-6a94aa26db3f",
   "metadata": {},
   "outputs": [
    {
     "data": {
      "text/plain": [
       "array([[-0.56573764, -1.12659397, -1.58488824,  0.047902  ,  0.60861322,\n",
       "        -1.23263319, -0.36952168, -0.5890378 ,  0.12181396, -1.57697136],\n",
       "       [ 0.00678233, -0.84560635, -0.41794588, -1.02328482, -0.51747583,\n",
       "         0.1463818 ,  0.78425481,  0.07079281,  0.0927115 ,  0.24143793],\n",
       "       [ 0.75739895,  1.21942221,  1.37968123, -0.3908939 , -0.88958722,\n",
       "         0.86788148, -0.26789949, -0.40195265,  1.06290301,  1.08675515],\n",
       "       [-1.14172981,  1.48598207,  0.70375216,  0.62227436,  1.39281664,\n",
       "        -0.29987348,  0.58863519, -0.83229884,  0.40897603, -0.48098127],\n",
       "       [ 1.84484214, -1.11423938, -0.12115165, -1.31060452, -0.4074719 ,\n",
       "         0.78941927, -0.59384031, -0.86682628,  0.70957145,  1.11146838]])"
      ]
     },
     "execution_count": 56,
     "metadata": {},
     "output_type": "execute_result"
    }
   ],
   "source": [
    "raw_x[:5]"
   ]
  },
  {
   "cell_type": "code",
   "execution_count": 57,
   "id": "cc8a4cb6-cadf-49f3-906b-6b8eb0196dd8",
   "metadata": {},
   "outputs": [
    {
     "data": {
      "text/plain": [
       "1000"
      ]
     },
     "execution_count": 57,
     "metadata": {},
     "output_type": "execute_result"
    }
   ],
   "source": [
    "raw_y.shape[0]"
   ]
  },
  {
   "cell_type": "code",
   "execution_count": 58,
   "id": "b59e6b86-d226-429b-8e2c-fcf27cfe8d8d",
   "metadata": {},
   "outputs": [
    {
     "data": {
      "text/plain": [
       "array([[1., 0.],\n",
       "       [1., 0.],\n",
       "       [0., 1.],\n",
       "       ...,\n",
       "       [1., 0.],\n",
       "       [0., 1.],\n",
       "       [0., 1.]])"
      ]
     },
     "execution_count": 58,
     "metadata": {},
     "output_type": "execute_result"
    }
   ],
   "source": [
    "oe = OneHotEncoder()\n",
    "value = oe.fit_transform(raw_y.reshape(-1,1))\n",
    "encoded_y = value.toarray()\n",
    "encoded_y"
   ]
  },
  {
   "cell_type": "code",
   "execution_count": 59,
   "id": "1bf2b5e0-b336-40d2-b7ed-dd0f430e75dc",
   "metadata": {},
   "outputs": [
    {
     "data": {
      "text/plain": [
       "(((800, 10), (800,)), ((200, 10), (200,)))"
      ]
     },
     "execution_count": 59,
     "metadata": {},
     "output_type": "execute_result"
    }
   ],
   "source": [
    "x_train, x_test, y_train, y_test = train_test_split(raw_x, raw_y, random_state=3453, test_size=.2)\n",
    "(x_train.shape, y_train.shape), (x_test.shape, y_test.shape)"
   ]
  },
  {
   "cell_type": "code",
   "execution_count": null,
   "id": "b1c4c9bd-383e-4caa-a5e0-78561a2c928d",
   "metadata": {},
   "outputs": [],
   "source": []
  },
  {
   "cell_type": "code",
   "execution_count": 60,
   "id": "d54cf9b5-f205-4951-b0f1-269e1c7f1f0e",
   "metadata": {},
   "outputs": [],
   "source": [
    "class LogisticRegression:\n",
    "    \"\"\"implement logistic regression from scratch\"\"\"\n",
    "\n",
    "    def __init__(self, learning_rate: float = 0.001, epochs: int = 500, classes: int = 2) -> None:\n",
    "        \"\"\"initializing model & hyper parameters\"\"\"\n",
    "        \n",
    "        self.learning_rate = learning_rate\n",
    "        self.epochs = epochs  \n",
    "        self.no_of_classes = classes\n",
    "        self.bias = None \n",
    "        self.weight= None\n",
    "\n",
    "    def linear_equation(self, x: NDArray[np.float64], w: NDArray[np.float64], b: float | NDArray) -> NDArray:\n",
    "        \"\"\"\n",
    "            equation: z = w . x + b\n",
    "        \"\"\"\n",
    "        if x.shape[1] != w.shape[0]:\n",
    "            raise ValueError(\"X and W are mismatched column count\")\n",
    "\n",
    "        return np.dot(x, w) + b\n",
    "        \n",
    "    @staticmethod\n",
    "    def sigmoid(z: NDArray) -> NDArray:\n",
    "        \"\"\"\n",
    "            equation: sigmoid(z) = 1 / 1 + e ^ -z\n",
    "        \"\"\"\n",
    "        result = [1/(1+np.exp(-each)) for each in z]\n",
    "        return np.array(result)\n",
    "\n",
    "\n",
    "    @staticmethod\n",
    "    def softmax(z: NDArray[float]) -> NDArray:\n",
    "        \"\"\"\n",
    "            equation: softmax(z) = e^z / sum(e^z)\n",
    "        \"\"\"\n",
    "        sum_of_exp = sum([np.exp(each) for each in z])\n",
    "        \n",
    "        result = [np.round(np.exp(each)/sum_of_exp, 5) for each in z]\n",
    "        return np.array(result)\n",
    "\n",
    "    \n",
    "    def get_dw(self, y_true: NDArray[int], y_prob: NDArray[float], x: NDArray[float]) -> float:\n",
    "        \"\"\"generate partial derivative of loss with respect to weight\n",
    "        \n",
    "            Equation:\n",
    "                dw = 1/n . y_prob_i - y_true_i . x_i\n",
    "        \"\"\"\n",
    "        if self.no_of_classes > 2:\n",
    "            result = []\n",
    "            for yp_i, y_i, x_i in zip(y_prob, y_true, x):\n",
    "                error = np.array(yp_i) - np.array(y_i)\n",
    "                result.append(np.outer(error, x_i))\n",
    "            sum_of_grad = sum(result)\n",
    "            dw = np.mean(sum_of_grad)\n",
    "            return np.array(dw)\n",
    "        \n",
    "        error = y_prob - y_true\n",
    "        dw = []\n",
    "        for each in x.T:\n",
    "            result = np.mean([np.round(a*b, 3) for a, b in zip(error, each)])\n",
    "            dw.append(result)\n",
    "        return np.array(dw)\n",
    "\n",
    "    def get_db(self, y_true: NDArray[int], y_prob: NDArray[float]) -> float:\n",
    "        \"\"\"generate partial derivative of loss with respect to bias\"\"\"\n",
    "\n",
    "        if self.no_of_classes > 2:\n",
    "            result = []\n",
    "            for yp_i, y_i in zip(y_prob, y_true):\n",
    "                error = np.array(yp_i) - np.array(y_i)\n",
    "                result.append(error)\n",
    "            sum_of_grad = sum(result)\n",
    "            db = np.mean(sum_of_grad)\n",
    "            return np.array(db)\n",
    "            \n",
    "        error = y_prob - y_true\n",
    "        return np.mean(error)\n",
    "        \n",
    "    def update_params(self, y_prob: NDArray, y_true: NDArray, x: NDArray) -> tuple[float, float]:\n",
    "        \"\"\"\n",
    "        Returns:\n",
    "            tuple[float, float] : (weight, bias)\n",
    "        \"\"\"\n",
    "        new_weight = self.weight - (self.learning_rate * self.get_dw(y_prob=y_prob, y_true=y_true, x=x))\n",
    "        new_bias = self.bias - (self.learning_rate * self.get_db(y_prob=y_prob, y_true=y_true))\n",
    "        return (new_weight, new_bias)\n",
    "\n",
    "\n",
    "    def forward_prop(self, x: NDArray) -> Any:\n",
    "\n",
    "        logits = self.linear_equation(x=x, w=self.weight, b=self.bias)\n",
    "        return self.softmax(logits) if self.no_of_classes > 2 else self.sigmoid(logits)\n",
    "\n",
    "    def backward_prop(self, y_prob: NDArray, y_true: NDArray, x: NDArray) -> Any:\n",
    "        self.weight, self.bias = self.update_params(y_prob=y_prob, y_true=y_true, x=x)\n",
    "\n",
    "    def fit(self, x: NDArray[np.float64], y: NDArray[np.int16]) -> Any:\n",
    "\n",
    "        self.weight = np.random.randn(x.shape[1]) * .01 if self.no_of_classes <= 2 else np.random.randn(x.shape[1], self.no_of_classes)\n",
    "        self.bias = 0 if self.no_of_classes <= 2 else np.zeros(self.no_of_classes)\n",
    "\n",
    "        for _ in range(self.epochs):\n",
    "            prob = self.forward_prop(x=x)\n",
    "            self.backward_prop(x=x, y_prob=prob, y_true=y)\n",
    "\n",
    "        print(\"training completed\")\n",
    "\n",
    "    def predict(self, x: np.ndarray) -> Any:\n",
    "        pred_logits = self.linear_equation(x=x, w=self.weight, b=self.bias)\n",
    "        \n",
    "        if self.no_of_classes > 2:\n",
    "            pred_prob = self.softmax(pred_logits) \n",
    "            # result = list(map(lambda x: 1 if x > .5 else 0, pred_prob))\n",
    "            return np.array(pred_prob)\n",
    "            \n",
    "        pred_prob = self.sigmoid(pred_logits)\n",
    "        result = list(map(lambda x: 1 if x > .5 else 0, pred_prob))\n",
    "        return np.array(result)"
   ]
  },
  {
   "cell_type": "code",
   "execution_count": 61,
   "id": "95fdc3cd-7c5e-4e8a-90d9-28eb59d9384e",
   "metadata": {},
   "outputs": [
    {
     "name": "stdout",
     "output_type": "stream",
     "text": [
      "training completed\n"
     ]
    }
   ],
   "source": [
    "model = LogisticRegression()\n",
    "\n",
    "model.fit(x=x_train, y=y_train)"
   ]
  },
  {
   "cell_type": "code",
   "execution_count": 62,
   "id": "28a0a117-f469-4f00-b672-baa64d10bbc8",
   "metadata": {},
   "outputs": [
    {
     "data": {
      "text/plain": [
       "array([ 0.01066313,  0.22350471,  0.14785305,  0.01005669, -0.00246937,\n",
       "        0.01232307,  0.00239741,  0.00210378,  0.03042633, -0.01037553])"
      ]
     },
     "execution_count": 62,
     "metadata": {},
     "output_type": "execute_result"
    }
   ],
   "source": [
    "model.weight"
   ]
  },
  {
   "cell_type": "code",
   "execution_count": 63,
   "id": "cfbc091e-e935-4c83-997d-d911b84579af",
   "metadata": {},
   "outputs": [
    {
     "data": {
      "text/plain": [
       "np.float64(0.0047347655773623005)"
      ]
     },
     "execution_count": 63,
     "metadata": {},
     "output_type": "execute_result"
    }
   ],
   "source": [
    "model.bias"
   ]
  },
  {
   "cell_type": "code",
   "execution_count": 64,
   "id": "d47691d4-ab35-40fb-87f7-4fb325ca7c78",
   "metadata": {},
   "outputs": [
    {
     "data": {
      "text/plain": [
       "array([0, 1, 0, 1, 0, 0, 0, 1, 0, 0, 1, 0, 0, 1, 0, 0, 0, 0, 1, 0, 0, 0,\n",
       "       0, 1, 0, 0, 0, 1, 0, 0, 0, 0, 1, 1, 0, 0, 1, 0, 1, 1, 0, 1, 0, 0,\n",
       "       1, 0, 1, 1, 1, 0, 0, 1, 1, 1, 1, 0, 0, 1, 0, 0, 0, 1, 1, 1, 0, 1,\n",
       "       0, 1, 0, 1, 1, 1, 0, 1, 0, 1, 1, 1, 0, 0, 0, 1, 0, 1, 0, 1, 0, 0,\n",
       "       0, 0, 0, 1, 1, 1, 0, 1, 0, 0, 1, 0, 0, 0, 0, 0, 0, 1, 1, 1, 1, 0,\n",
       "       0, 0, 1, 1, 1, 0, 1, 1, 1, 1, 0, 0, 1, 0, 1, 0, 0, 0, 0, 1, 0, 0,\n",
       "       0, 0, 0, 1, 1, 1, 0, 0, 0, 1, 1, 0, 1, 0, 1, 1, 0, 0, 0, 0, 0, 0,\n",
       "       0, 0, 1, 0, 1, 0, 1, 1, 0, 1, 0, 0, 1, 1, 0, 0, 1, 0, 0, 0, 0, 0,\n",
       "       1, 1, 0, 0, 1, 0, 0, 1, 0, 1, 1, 1, 0, 0, 1, 1, 1, 1, 0, 1, 1, 0,\n",
       "       0, 0])"
      ]
     },
     "execution_count": 64,
     "metadata": {},
     "output_type": "execute_result"
    }
   ],
   "source": [
    "y_pred = model.predict(x=x_test)\n",
    "y_pred"
   ]
  },
  {
   "cell_type": "code",
   "execution_count": 65,
   "id": "0136be61-6c07-45b2-b3dd-27f828e5abba",
   "metadata": {},
   "outputs": [
    {
     "data": {
      "text/plain": [
       "array([0, 1, 0, 1, 0, 0, 0, 1, 0, 0, 1, 0, 1, 1, 1, 0, 0, 0, 1, 0, 0, 0,\n",
       "       0, 1, 0, 0, 0, 1, 0, 0, 0, 0, 1, 1, 0, 0, 1, 0, 1, 1, 0, 1, 0, 0,\n",
       "       1, 0, 1, 1, 1, 0, 1, 1, 1, 1, 1, 0, 0, 1, 0, 0, 0, 1, 1, 1, 0, 0,\n",
       "       0, 1, 0, 1, 1, 1, 1, 1, 0, 1, 1, 1, 0, 0, 0, 1, 0, 0, 0, 1, 0, 0,\n",
       "       0, 0, 0, 1, 1, 1, 0, 1, 0, 0, 1, 1, 0, 0, 0, 0, 0, 1, 1, 1, 1, 0,\n",
       "       1, 0, 1, 1, 1, 0, 1, 1, 1, 1, 1, 0, 1, 0, 1, 0, 0, 0, 0, 1, 1, 0,\n",
       "       0, 0, 0, 1, 1, 1, 0, 0, 0, 1, 1, 0, 1, 0, 1, 1, 0, 0, 0, 0, 0, 0,\n",
       "       0, 0, 1, 0, 1, 1, 1, 1, 0, 1, 0, 1, 1, 1, 0, 0, 1, 0, 0, 0, 0, 0,\n",
       "       1, 0, 1, 0, 1, 0, 0, 1, 0, 1, 1, 1, 0, 0, 1, 1, 1, 1, 0, 1, 1, 0,\n",
       "       0, 0])"
      ]
     },
     "execution_count": 65,
     "metadata": {},
     "output_type": "execute_result"
    }
   ],
   "source": [
    "y_test"
   ]
  },
  {
   "cell_type": "code",
   "execution_count": 66,
   "id": "f50a68fd-6688-426c-82f9-c50fdb9fa14b",
   "metadata": {},
   "outputs": [
    {
     "name": "stdout",
     "output_type": "stream",
     "text": [
      "TN : 103\n",
      "FP : 3\n",
      "FN : 11\n",
      "TP : 83\n"
     ]
    }
   ],
   "source": [
    "tn, fp, fn, tp = confusion_matrix(y_test, y_pred).ravel()\n",
    "print(f\"TN : {tn}\\nFP : {fp}\\nFN : {fn}\\nTP : {tp}\")"
   ]
  },
  {
   "cell_type": "code",
   "execution_count": 67,
   "id": "8658d1a0-42f0-4e29-be1d-4cc57acf0f46",
   "metadata": {},
   "outputs": [
    {
     "name": "stdout",
     "output_type": "stream",
     "text": [
      "Test Accuracy is 93.0\n"
     ]
    }
   ],
   "source": [
    "test_acc = accuracy_score(y_test, y_pred) * 100\n",
    "print(f\"Test Accuracy is {test_acc}\")"
   ]
  },
  {
   "cell_type": "code",
   "execution_count": 68,
   "id": "8ac1490c-4b27-406a-859c-62384a969de4",
   "metadata": {},
   "outputs": [
    {
     "name": "stdout",
     "output_type": "stream",
     "text": [
      "Train Accuracy is 91.125\n"
     ]
    }
   ],
   "source": [
    "y_pred_train = model.predict(x_train)\n",
    "train_acc = accuracy_score(y_train, y_pred_train) * 100\n",
    "print(f\"Train Accuracy is {train_acc}\")"
   ]
  },
  {
   "cell_type": "code",
   "execution_count": null,
   "id": "bb4ed1c6-7f11-4e84-99aa-67d27afe9909",
   "metadata": {},
   "outputs": [],
   "source": []
  }
 ],
 "metadata": {
  "kernelspec": {
   "display_name": "Python 3 (ipykernel)",
   "language": "python",
   "name": "python3"
  },
  "language_info": {
   "codemirror_mode": {
    "name": "ipython",
    "version": 3
   },
   "file_extension": ".py",
   "mimetype": "text/x-python",
   "name": "python",
   "nbconvert_exporter": "python",
   "pygments_lexer": "ipython3",
   "version": "3.12.7"
  }
 },
 "nbformat": 4,
 "nbformat_minor": 5
}
