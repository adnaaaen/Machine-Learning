{
 "cells": [
  {
   "cell_type": "markdown",
   "id": "d302a4e0-6293-4b17-9733-5fab2ba8ecc9",
   "metadata": {},
   "source": [
    "# Logistic Regression From Scratch"
   ]
  },
  {
   "cell_type": "code",
   "execution_count": 278,
   "id": "e5d0de93-d756-45b4-ae54-3f61f6cb8968",
   "metadata": {},
   "outputs": [],
   "source": [
    "from typing import Any\n",
    "\n",
    "import numpy as np\n",
    "from numpy.typing import NDArray\n",
    "\n",
    "from sklearn.datasets import make_classification\n",
    "from sklearn.model_selection import train_test_split\n",
    "from sklearn.metrics import accuracy_score, confusion_matrix"
   ]
  },
  {
   "cell_type": "code",
   "execution_count": 279,
   "id": "d4de36c8-d9a2-410c-a064-cf08ef851f72",
   "metadata": {},
   "outputs": [],
   "source": [
    "raw_x, raw_y = make_classification(n_features=10,n_samples=1000, random_state=3442)"
   ]
  },
  {
   "cell_type": "code",
   "execution_count": 280,
   "id": "6f6d8a9e-5100-454e-bf25-16ee1cfc59d6",
   "metadata": {},
   "outputs": [
    {
     "data": {
      "text/plain": [
       "((1000, 10), (1000,))"
      ]
     },
     "execution_count": 280,
     "metadata": {},
     "output_type": "execute_result"
    }
   ],
   "source": [
    "raw_x.shape, raw_y.shape"
   ]
  },
  {
   "cell_type": "code",
   "execution_count": 281,
   "id": "e5ffde6c-5185-4250-9abe-6a94aa26db3f",
   "metadata": {},
   "outputs": [
    {
     "data": {
      "text/plain": [
       "array([[-0.56573764, -1.12659397, -1.58488824,  0.047902  ,  0.60861322,\n",
       "        -1.23263319, -0.36952168, -0.5890378 ,  0.12181396, -1.57697136],\n",
       "       [ 0.00678233, -0.84560635, -0.41794588, -1.02328482, -0.51747583,\n",
       "         0.1463818 ,  0.78425481,  0.07079281,  0.0927115 ,  0.24143793],\n",
       "       [ 0.75739895,  1.21942221,  1.37968123, -0.3908939 , -0.88958722,\n",
       "         0.86788148, -0.26789949, -0.40195265,  1.06290301,  1.08675515],\n",
       "       [-1.14172981,  1.48598207,  0.70375216,  0.62227436,  1.39281664,\n",
       "        -0.29987348,  0.58863519, -0.83229884,  0.40897603, -0.48098127],\n",
       "       [ 1.84484214, -1.11423938, -0.12115165, -1.31060452, -0.4074719 ,\n",
       "         0.78941927, -0.59384031, -0.86682628,  0.70957145,  1.11146838]])"
      ]
     },
     "execution_count": 281,
     "metadata": {},
     "output_type": "execute_result"
    }
   ],
   "source": [
    "raw_x[:5]"
   ]
  },
  {
   "cell_type": "code",
   "execution_count": 282,
   "id": "1bf2b5e0-b336-40d2-b7ed-dd0f430e75dc",
   "metadata": {},
   "outputs": [
    {
     "data": {
      "text/plain": [
       "(((800, 10), (800,)), ((200, 10), (200,)))"
      ]
     },
     "execution_count": 282,
     "metadata": {},
     "output_type": "execute_result"
    }
   ],
   "source": [
    "x_train, x_test, y_train, y_test = train_test_split(raw_x, raw_y, random_state=3453, test_size=.2)\n",
    "(x_train.shape, y_train.shape), (x_test.shape, y_test.shape)"
   ]
  },
  {
   "cell_type": "code",
   "execution_count": 283,
   "id": "d65aae92-1b33-48c0-b49b-5446f54ba370",
   "metadata": {},
   "outputs": [],
   "source": [
    "class LogisticRegression:\n",
    "    \"\"\"implement logistic regression from scratch\"\"\"\n",
    "\n",
    "    def __init__(self, learning_rate: float = 0.001, epochs: int = 500) -> None:\n",
    "        \"\"\"initializing model & hyper parameters\"\"\"\n",
    "        \n",
    "        self.learning_rate = learning_rate\n",
    "        self.epochs = epochs  \n",
    "        self.bias = None \n",
    "        self.weight= None\n",
    "\n",
    "    @staticmethod\n",
    "    def linear_equation(x: NDArray[np.float64], w: NDArray[np.float64], b: float) -> float:\n",
    "        if x.shape[1] != w.shape[0]:\n",
    "            raise ValueError(\"X and W are mismatched column count\")\n",
    "\n",
    "        logits = np.dot(x, w) + b\n",
    "        return  logits\n",
    "        \n",
    "    @staticmethod\n",
    "    def sigmoid(z: float) -> float:\n",
    "        return (1/(1+np.exp(-z)))\n",
    "\n",
    "    @staticmethod\n",
    "    def bce(y_true: NDArray, y_pred: NDArray) -> float:\n",
    "        summation = 0\n",
    "        for y_t, y_p in zip(y_true, y_pred):\n",
    "            # log_loss = (y * log(y_cap)) + (1-y) * (1-log(Y_cap)) \n",
    "            summation += (y_t * y_p) + ((1 - y_t) * (1 - np.log(y_p)))\n",
    "            \n",
    "        return np.mean(summation)\n",
    "\n",
    "    @staticmethod\n",
    "    def get_dw(y_true: NDArray[int], y_prob: NDArray[float], x: NDArray[float]) -> float:\n",
    "        \"\"\"generate partial derivative of loss with respect to weight\n",
    "        \n",
    "            Equation:\n",
    "                dw = 1/n . y_prob_i - y_true_i . x_i\n",
    "        \"\"\"\n",
    "        error = y_prob - y_true\n",
    "        dw = []\n",
    "        for each in x.T:\n",
    "            result = np.mean([np.round(a*b, 3) for a, b in zip(error, each)])\n",
    "            dw.append(result)\n",
    "        return np.array(dw)\n",
    "\n",
    "\n",
    "    @staticmethod\n",
    "    def get_db(y_true: NDArray[int], y_prob: NDArray[float]) -> float:\n",
    "        \"\"\"generate partial derivative of loss with respect to bias\"\"\"\n",
    "        error = y_prob - y_true\n",
    "        return np.mean(error)\n",
    "        \n",
    "\n",
    "    def update_params(self, y_prob: NDArray, y_true: NDArray, x: NDArray) -> tuple[float, float]:\n",
    "        \"\"\"\n",
    "        Returns:\n",
    "            tuple[float, float] : (weight, bias)\n",
    "        \"\"\"\n",
    "        new_weight = self.weight - (self.learning_rate * self.get_dw(y_prob=y_prob, y_true=y_true, x=x))\n",
    "        new_bias = self.bias - (self.learning_rate * self.get_db(y_prob=y_prob, y_true=y_true))\n",
    "        return (new_weight, new_bias)\n",
    "        \n",
    "\n",
    "    def fit(self, x: NDArray[np.float64], y: NDArray[np.int16]) -> Any:\n",
    "        \"\"\"train the model\n",
    "\n",
    "        Args:\n",
    "            x: (ndarray) : Feature matrix with shape (n_samples, n_features)\n",
    "            y: (ndarray) : Target matrix with shape (n_samples,)\n",
    "\n",
    "        Return:\n",
    "            Any\n",
    "\n",
    "        Raise:\n",
    "            ValueError : if x and y have mismatched length\n",
    "\n",
    "        \"\"\"\n",
    "        if x.shape[0] != y.shape[0]:\n",
    "            raise ValueError(f\"x and y have mismatched shape x: {x.shape[0]} y:{x.shape[0]}\")\n",
    "\n",
    "        self.weight = np.random.randn(x.shape[1]) * .01\n",
    "        self.bias = 0\n",
    "\n",
    "        for _ in range(self.epochs):\n",
    "            logits = self.linear_equation(x=x, w=self.weight, b=self.bias)\n",
    "            prob = [self.sigmoid(each) for each in logits]\n",
    "\n",
    "            self.weight, self.bias = self.update_params(x=x, y_prob=prob, y_true=y)\n",
    "        print(\"training completed\")\n",
    "\n",
    "    def predict(self, x: np.ndarray) -> Any:\n",
    "        pred_logits = self.linear_equation(x=x, w=self.weight, b=self.bias)\n",
    "        pred_prob = [self.sigmoid(each) for each in pred_logits]\n",
    "\n",
    "        result = list(map(lambda x: 1 if x > .5 else 0, pred_prob))\n",
    "        return np.array(result)"
   ]
  },
  {
   "cell_type": "code",
   "execution_count": 284,
   "id": "95fdc3cd-7c5e-4e8a-90d9-28eb59d9384e",
   "metadata": {
    "scrolled": true
   },
   "outputs": [
    {
     "name": "stdout",
     "output_type": "stream",
     "text": [
      "training completed\n"
     ]
    }
   ],
   "source": [
    "model = LogisticRegression()\n",
    "\n",
    "model.fit(x=x_train, y=y_train)"
   ]
  },
  {
   "cell_type": "code",
   "execution_count": 285,
   "id": "28a0a117-f469-4f00-b672-baa64d10bbc8",
   "metadata": {},
   "outputs": [
    {
     "data": {
      "text/plain": [
       "array([ 0.00186504,  0.21134891,  0.13814837,  0.00939806, -0.01274474,\n",
       "       -0.00626272, -0.00135388,  0.00040708,  0.01708384,  0.01101925])"
      ]
     },
     "execution_count": 285,
     "metadata": {},
     "output_type": "execute_result"
    }
   ],
   "source": [
    "model.weight"
   ]
  },
  {
   "cell_type": "code",
   "execution_count": 286,
   "id": "cfbc091e-e935-4c83-997d-d911b84579af",
   "metadata": {},
   "outputs": [
    {
     "data": {
      "text/plain": [
       "np.float64(0.004710960800480845)"
      ]
     },
     "execution_count": 286,
     "metadata": {},
     "output_type": "execute_result"
    }
   ],
   "source": [
    "model.bias"
   ]
  },
  {
   "cell_type": "code",
   "execution_count": 287,
   "id": "d47691d4-ab35-40fb-87f7-4fb325ca7c78",
   "metadata": {},
   "outputs": [
    {
     "data": {
      "text/plain": [
       "array([0, 1, 0, 1, 0, 0, 0, 1, 0, 0, 1, 0, 0, 1, 0, 0, 0, 0, 1, 0, 0, 0,\n",
       "       0, 1, 0, 0, 0, 1, 0, 0, 0, 0, 1, 1, 0, 0, 1, 0, 1, 0, 0, 1, 0, 0,\n",
       "       1, 0, 1, 1, 1, 0, 0, 1, 1, 1, 1, 0, 0, 1, 0, 0, 0, 1, 1, 1, 0, 1,\n",
       "       0, 1, 0, 1, 1, 1, 0, 1, 0, 1, 1, 1, 0, 0, 0, 1, 0, 1, 0, 1, 0, 0,\n",
       "       0, 0, 0, 1, 1, 1, 0, 1, 0, 0, 1, 0, 0, 0, 0, 0, 0, 1, 1, 1, 1, 0,\n",
       "       0, 0, 1, 1, 1, 0, 1, 1, 1, 1, 0, 0, 1, 0, 1, 0, 0, 0, 0, 1, 0, 0,\n",
       "       0, 0, 0, 1, 1, 1, 0, 0, 0, 1, 1, 0, 1, 0, 1, 1, 0, 0, 0, 0, 0, 0,\n",
       "       0, 0, 1, 0, 1, 0, 1, 1, 0, 1, 0, 0, 1, 1, 0, 0, 1, 0, 0, 0, 0, 0,\n",
       "       1, 1, 0, 0, 1, 0, 0, 1, 0, 1, 1, 1, 0, 0, 1, 1, 1, 1, 0, 1, 1, 0,\n",
       "       0, 0])"
      ]
     },
     "execution_count": 287,
     "metadata": {},
     "output_type": "execute_result"
    }
   ],
   "source": [
    "y_pred = model.predict(x=x_test)\n",
    "y_pred"
   ]
  },
  {
   "cell_type": "code",
   "execution_count": 288,
   "id": "0136be61-6c07-45b2-b3dd-27f828e5abba",
   "metadata": {},
   "outputs": [
    {
     "data": {
      "text/plain": [
       "array([0, 1, 0, 1, 0, 0, 0, 1, 0, 0, 1, 0, 1, 1, 1, 0, 0, 0, 1, 0, 0, 0,\n",
       "       0, 1, 0, 0, 0, 1, 0, 0, 0, 0, 1, 1, 0, 0, 1, 0, 1, 1, 0, 1, 0, 0,\n",
       "       1, 0, 1, 1, 1, 0, 1, 1, 1, 1, 1, 0, 0, 1, 0, 0, 0, 1, 1, 1, 0, 0,\n",
       "       0, 1, 0, 1, 1, 1, 1, 1, 0, 1, 1, 1, 0, 0, 0, 1, 0, 0, 0, 1, 0, 0,\n",
       "       0, 0, 0, 1, 1, 1, 0, 1, 0, 0, 1, 1, 0, 0, 0, 0, 0, 1, 1, 1, 1, 0,\n",
       "       1, 0, 1, 1, 1, 0, 1, 1, 1, 1, 1, 0, 1, 0, 1, 0, 0, 0, 0, 1, 1, 0,\n",
       "       0, 0, 0, 1, 1, 1, 0, 0, 0, 1, 1, 0, 1, 0, 1, 1, 0, 0, 0, 0, 0, 0,\n",
       "       0, 0, 1, 0, 1, 1, 1, 1, 0, 1, 0, 1, 1, 1, 0, 0, 1, 0, 0, 0, 0, 0,\n",
       "       1, 0, 1, 0, 1, 0, 0, 1, 0, 1, 1, 1, 0, 0, 1, 1, 1, 1, 0, 1, 1, 0,\n",
       "       0, 0])"
      ]
     },
     "execution_count": 288,
     "metadata": {},
     "output_type": "execute_result"
    }
   ],
   "source": [
    "y_test"
   ]
  },
  {
   "cell_type": "code",
   "execution_count": 289,
   "id": "f50a68fd-6688-426c-82f9-c50fdb9fa14b",
   "metadata": {},
   "outputs": [
    {
     "name": "stdout",
     "output_type": "stream",
     "text": [
      "TN : 103\n",
      "FP : 3\n",
      "FN : 12\n",
      "TP : 82\n"
     ]
    }
   ],
   "source": [
    "tn, fp, fn, tp = confusion_matrix(y_test, y_pred).ravel()\n",
    "print(f\"TN : {tn}\\nFP : {fp}\\nFN : {fn}\\nTP : {tp}\")"
   ]
  },
  {
   "cell_type": "code",
   "execution_count": 290,
   "id": "8658d1a0-42f0-4e29-be1d-4cc57acf0f46",
   "metadata": {},
   "outputs": [
    {
     "name": "stdout",
     "output_type": "stream",
     "text": [
      "Test Accuracy is 92.5\n"
     ]
    }
   ],
   "source": [
    "test_acc = accuracy_score(y_test, y_pred) * 100\n",
    "print(f\"Test Accuracy is {test_acc}\")"
   ]
  },
  {
   "cell_type": "code",
   "execution_count": 291,
   "id": "8ac1490c-4b27-406a-859c-62384a969de4",
   "metadata": {},
   "outputs": [
    {
     "name": "stdout",
     "output_type": "stream",
     "text": [
      "Train Accuracy is 90.875\n"
     ]
    }
   ],
   "source": [
    "y_pred_train = model.predict(x_train)\n",
    "train_acc = accuracy_score(y_train, y_pred_train) * 100\n",
    "print(f\"Train Accuracy is {train_acc}\")"
   ]
  },
  {
   "cell_type": "code",
   "execution_count": null,
   "id": "bb4ed1c6-7f11-4e84-99aa-67d27afe9909",
   "metadata": {},
   "outputs": [],
   "source": []
  }
 ],
 "metadata": {
  "kernelspec": {
   "display_name": "Python 3 (ipykernel)",
   "language": "python",
   "name": "python3"
  },
  "language_info": {
   "codemirror_mode": {
    "name": "ipython",
    "version": 3
   },
   "file_extension": ".py",
   "mimetype": "text/x-python",
   "name": "python",
   "nbconvert_exporter": "python",
   "pygments_lexer": "ipython3",
   "version": "3.12.7"
  }
 },
 "nbformat": 4,
 "nbformat_minor": 5
}
