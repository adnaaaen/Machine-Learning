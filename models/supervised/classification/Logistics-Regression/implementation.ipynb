{
 "cells": [
  {
   "cell_type": "markdown",
   "id": "d302a4e0-6293-4b17-9733-5fab2ba8ecc9",
   "metadata": {},
   "source": [
    "# Logistic Regression From Scratch"
   ]
  },
  {
   "cell_type": "code",
   "execution_count": 111,
   "id": "e5d0de93-d756-45b4-ae54-3f61f6cb8968",
   "metadata": {},
   "outputs": [],
   "source": [
    "import numpy as np\n",
    "import seaborn as sns\n",
    "from matplotlib import pyplot as plt\n",
    "plt.style.use(\"dark_background\")\n",
    "from sklearn.datasets import make_classification\n",
    "from sklearn.model_selection import train_test_split\n",
    "from sklearn.preprocessing import OneHotEncoder\n",
    "from sklearn.metrics import accuracy_score, confusion_matrix\n",
    "\n",
    "\n",
    "# types: for better functions\n",
    "from numpy.typing import NDArray\n",
    "from typing import Any"
   ]
  },
  {
   "cell_type": "markdown",
   "id": "3e94f5a6-aada-4037-b25c-aa0d2fcb5c6d",
   "metadata": {},
   "source": [
    "## Implementation Code"
   ]
  },
  {
   "cell_type": "code",
   "execution_count": 120,
   "id": "d54cf9b5-f205-4951-b0f1-269e1c7f1f0e",
   "metadata": {},
   "outputs": [],
   "source": [
    "class LogisticRegression:\n",
    "    \"\"\"implement logistic regression from scratch\"\"\"\n",
    "\n",
    "    def __init__(\n",
    "        self, learning_rate: float = 0.001, epochs: int = 500, classes: int = 2\n",
    "    ) -> None:\n",
    "        # initializing model & hyper parameters\n",
    "        self.learning_rate = learning_rate\n",
    "        self.epochs = epochs\n",
    "        self.no_of_classes = classes\n",
    "        self.bias = None\n",
    "        self.weight = None\n",
    "\n",
    "    def linear_equation(\n",
    "        self, x: NDArray[np.float64], w: NDArray[np.float64], b: float | NDArray\n",
    "    ) -> NDArray:\n",
    "        # equation: z = w . x + b\n",
    "        if x.shape[1] != w.shape[0]:\n",
    "            raise ValueError(\"X and W are mismatched column count\")\n",
    "\n",
    "        return np.dot(x, w) + b\n",
    "\n",
    "    @staticmethod\n",
    "    def sigmoid(z: NDArray) -> NDArray:\n",
    "        # equation: sigmoid(z) = 1 / 1 + e ^ -z\n",
    "        return 1 / (1 + np.exp(-z))\n",
    "\n",
    "    @staticmethod\n",
    "    def softmax(z: NDArray[float]) -> NDArray:\n",
    "        exp_z = np.exp(z - np.max(z, axis=1, keepdims=True))\n",
    "        return exp_z / exp_z.sum(axis=1, keepdims=True)\n",
    "\n",
    "    def get_dw(\n",
    "        self, y_true: NDArray[int], y_prob: NDArray[float], x: NDArray[float]\n",
    "    ) -> float:\n",
    "\n",
    "        # equation: dw = 1/n . y_prob_i - y_true_i . x_i\n",
    "        if self.no_of_classes > 2:\n",
    "            result = []\n",
    "            for yp_i, y_i, x_i in zip(y_prob, y_true, x):\n",
    "                error = np.array(yp_i) - np.array(y_i)\n",
    "                result.append(np.outer(error, x_i))\n",
    "            return np.mean(result)\n",
    "\n",
    "        error = y_prob - y_true\n",
    "        dw = []\n",
    "        for each in x.T:\n",
    "            result = np.mean([np.round(a * b, 3) for a, b in zip(error, each)])\n",
    "            dw.append(result)\n",
    "        return np.array(dw)\n",
    "\n",
    "    @staticmethod\n",
    "    def get_db(y_true: NDArray[float], y_prob: NDArray[float]) -> float:\n",
    "        error = y_prob - y_true\n",
    "        return np.mean(error, axis=0)\n",
    "\n",
    "    def update_params(\n",
    "        self, y_prob: NDArray, y_true: NDArray, x: NDArray\n",
    "    ) -> tuple[float, float]:\n",
    "        # @Returns: (weight, bias)\n",
    "        new_weight = self.weight - (\n",
    "            self.learning_rate * self.get_dw(y_prob=y_prob, y_true=y_true, x=x)\n",
    "        )\n",
    "        new_bias = self.bias - (\n",
    "            self.learning_rate * self.get_db(y_prob=y_prob, y_true=y_true)\n",
    "        )\n",
    "        return (new_weight, new_bias)\n",
    "\n",
    "    def forward_prop(self, x: NDArray) -> Any:\n",
    "        logits = self.linear_equation(x=x, w=self.weight, b=self.bias)\n",
    "        return self.softmax(logits) if self.no_of_classes > 2 else self.sigmoid(logits)\n",
    "\n",
    "    def backward_prop(self, y_prob: NDArray, y_true: NDArray, x: NDArray) -> Any:\n",
    "        self.weight, self.bias = self.update_params(y_prob=y_prob, y_true=y_true, x=x)\n",
    "\n",
    "    def fit(self, x: NDArray[np.float64], y: NDArray[np.int16]) -> Any:\n",
    "\n",
    "        self.weight = (\n",
    "            np.random.randn(x.shape[1]) * 0.01\n",
    "            if self.no_of_classes <= 2\n",
    "            else np.random.randn(x.shape[1], self.no_of_classes) * 0.01\n",
    "        )\n",
    "        self.bias = 0 if self.no_of_classes <= 2 else np.zeros(self.no_of_classes)\n",
    "\n",
    "        for _ in range(self.epochs):\n",
    "            prob = self.forward_prop(x=x)\n",
    "            self.backward_prop(x=x, y_prob=prob, y_true=y)\n",
    "\n",
    "        print(\"training completed\")\n",
    "\n",
    "    def predict(self, x: np.ndarray) -> Any:\n",
    "        pred_logits = self.linear_equation(x=x, w=self.weight, b=self.bias)\n",
    "\n",
    "        if self.no_of_classes > 2:\n",
    "            pred_prob = self.softmax(pred_logits)\n",
    "            prediction = []\n",
    "            for each in pred_prob:\n",
    "                mx_value = max(each)\n",
    "                rows = [1 if i == mx_value else 0 for i in each]\n",
    "                prediction.append(rows)\n",
    "            return np.array(prediction)\n",
    "\n",
    "        pred_prob = self.sigmoid(pred_logits)\n",
    "        return np.array(list(map(lambda x: 1 if x > 0.5 else 0, pred_prob)))   # map probability into 1,0"
   ]
  },
  {
   "cell_type": "markdown",
   "id": "ea5138f2-a948-4e6f-bfbf-6378de4cf9ed",
   "metadata": {},
   "source": [
    "## Binary Class Classification"
   ]
  },
  {
   "cell_type": "code",
   "execution_count": 121,
   "id": "d4de36c8-d9a2-410c-a064-cf08ef851f72",
   "metadata": {},
   "outputs": [],
   "source": [
    "bin_raw_x, bin_raw_y = make_classification(\n",
    "    n_features=10, n_samples=1000, random_state=3442\n",
    ")"
   ]
  },
  {
   "cell_type": "code",
   "execution_count": 122,
   "id": "6f6d8a9e-5100-454e-bf25-16ee1cfc59d6",
   "metadata": {},
   "outputs": [
    {
     "name": "stdout",
     "output_type": "stream",
     "text": [
      "Shape of binary classification data: ((1000, 10), (1000,))\n"
     ]
    }
   ],
   "source": [
    "print(f\"Shape of binary classification data: {bin_raw_x.shape, bin_raw_y.shape}\")"
   ]
  },
  {
   "cell_type": "code",
   "execution_count": 123,
   "id": "1bf2b5e0-b336-40d2-b7ed-dd0f430e75dc",
   "metadata": {},
   "outputs": [
    {
     "data": {
      "text/plain": [
       "(((800, 10), (800,)), ((200, 10), (200,)))"
      ]
     },
     "execution_count": 123,
     "metadata": {},
     "output_type": "execute_result"
    }
   ],
   "source": [
    "x_train, x_test, y_train, y_test = train_test_split(\n",
    "    bin_raw_x, bin_raw_y, random_state=3453, test_size=0.2\n",
    ")\n",
    "(x_train.shape, y_train.shape), (x_test.shape, y_test.shape)"
   ]
  },
  {
   "cell_type": "code",
   "execution_count": 124,
   "id": "95fdc3cd-7c5e-4e8a-90d9-28eb59d9384e",
   "metadata": {},
   "outputs": [
    {
     "name": "stdout",
     "output_type": "stream",
     "text": [
      "training completed\n"
     ]
    }
   ],
   "source": [
    "b_model = LogisticRegression()\n",
    "\n",
    "b_model.fit(x=x_train, y=y_train)"
   ]
  },
  {
   "cell_type": "code",
   "execution_count": 125,
   "id": "ca8a8128-2bb2-4e70-b635-f65f881efbd1",
   "metadata": {},
   "outputs": [
    {
     "data": {
      "text/plain": [
       "(np.int64(103), np.int64(3), np.int64(10), np.int64(84))"
      ]
     },
     "execution_count": 125,
     "metadata": {},
     "output_type": "execute_result"
    }
   ],
   "source": [
    "y_pred = b_model.predict(x=x_test)\n",
    "\n",
    "tn, fp, fn, tp = confusion_matrix(y_test, y_pred).ravel()\n",
    "cm_values = confusion_matrix(y_test, y_pred)\n",
    "tn, fp, fn, tp"
   ]
  },
  {
   "cell_type": "code",
   "execution_count": 126,
   "id": "3123da3a-90d1-4738-ab97-e31b2ef5cc22",
   "metadata": {},
   "outputs": [
    {
     "data": {
      "image/png": "[encoded data removed]",
      "text/plain": [
       "<Figure size 640x480 with 2 Axes>"
      ]
     },
     "metadata": {},
     "output_type": "display_data"
    }
   ],
   "source": [
    "sns.heatmap(cm_values, annot=True)\n",
    "plt.show()"
   ]
  },
  {
   "cell_type": "code",
   "execution_count": 127,
   "id": "249e33b1-4599-475a-bb5a-91b3bb33ab16",
   "metadata": {},
   "outputs": [],
   "source": [
    "test_acc = accuracy_score(y_test, y_pred) * 100    # test accuracy\n",
    "\n",
    "y_pred_train = b_model.predict(x_train)\n",
    "train_acc = accuracy_score(y_train, y_pred_train) * 100   # train accuracy"
   ]
  },
  {
   "cell_type": "code",
   "execution_count": 128,
   "id": "ff8d356a-b2a5-4005-82ae-a96a10c13fa1",
   "metadata": {},
   "outputs": [
    {
     "data": {
      "image/png": "[encoded data removed]",
      "text/plain": [
       "<Figure size 640x480 with 1 Axes>"
      ]
     },
     "metadata": {},
     "output_type": "display_data"
    }
   ],
   "source": [
    "ax = sns.barplot([test_acc, train_acc])\n",
    "for i in ax.containers:\n",
    "    ax.bar_label(i)\n",
    "plt.xticks([0,1], [\"Train Accuracy %\", \"Test Accuracy %\"])\n",
    "plt.show()"
   ]
  },
  {
   "cell_type": "markdown",
   "id": "8b17e250-c728-4213-95fa-1551427c5359",
   "metadata": {},
   "source": [
    "## Multi Class Classification"
   ]
  },
  {
   "cell_type": "code",
   "execution_count": 129,
   "id": "7ffbc2bb-e054-44ae-afab-e0fb5cf92a3d",
   "metadata": {},
   "outputs": [],
   "source": [
    "multi_raw_x, multi_raw_y = make_classification(\n",
    "    n_features=10, n_samples=1000, random_state=3442, n_classes=4, n_informative=4\n",
    ")"
   ]
  },
  {
   "cell_type": "code",
   "execution_count": 130,
   "id": "834197a5-615c-4f1f-b0e2-525f4da5ed2f",
   "metadata": {},
   "outputs": [
    {
     "name": "stdout",
     "output_type": "stream",
     "text": [
      "Shape of multiclass classification data: ((1000, 10), (1000,))\n"
     ]
    }
   ],
   "source": [
    "print(\n",
    "    f\"Shape of multiclass classification data: {multi_raw_x.shape, multi_raw_y.shape}\"\n",
    ")"
   ]
  },
  {
   "cell_type": "code",
   "execution_count": 131,
   "id": "b59e6b86-d226-429b-8e2c-fcf27cfe8d8d",
   "metadata": {},
   "outputs": [
    {
     "data": {
      "text/plain": [
       "array([[1., 0., 0., 0.],\n",
       "       [0., 0., 0., 1.],\n",
       "       [1., 0., 0., 0.]])"
      ]
     },
     "execution_count": 131,
     "metadata": {},
     "output_type": "execute_result"
    }
   ],
   "source": [
    "# encode the target varibale with one-hot encoding \n",
    "# e.g. [0,1] => [[1,0], [0, 1]]\n",
    "\n",
    "oe = OneHotEncoder()\n",
    "value = oe.fit_transform(multi_raw_y.reshape(-1, 1))\n",
    "encoded_y = value.toarray()\n",
    "encoded_y[:3]"
   ]
  },
  {
   "cell_type": "code",
   "execution_count": 151,
   "id": "0b697270-6c4f-4719-95de-c61f8fe80d55",
   "metadata": {},
   "outputs": [
    {
     "data": {
      "text/plain": [
       "(((800, 10), (800, 4)), ((200, 10), (200, 4)))"
      ]
     },
     "execution_count": 151,
     "metadata": {},
     "output_type": "execute_result"
    }
   ],
   "source": [
    "mx_train, mx_test, my_train, my_test = train_test_split(\n",
    "    multi_raw_x, encoded_y, random_state=3453, test_size=0.2\n",
    ")\n",
    "(mx_train.shape, my_train.shape), (mx_test.shape, my_test.shape)"
   ]
  },
  {
   "cell_type": "code",
   "execution_count": 152,
   "id": "cd1027e5-4a5f-431a-be54-c8a12943e43e",
   "metadata": {},
   "outputs": [
    {
     "name": "stdout",
     "output_type": "stream",
     "text": [
      "training completed\n"
     ]
    }
   ],
   "source": [
    "m_model = LogisticRegression(classes=4)\n",
    "m_model.fit(mx_train, my_train)"
   ]
  },
  {
   "cell_type": "code",
   "execution_count": 160,
   "id": "61a0e74b-b6cf-4acf-80f7-e5f2e3486a9d",
   "metadata": {},
   "outputs": [],
   "source": [
    "y_pred = m_model.predict(mx_test)\n",
    "y_pred = np.argmax(y_pred, axis=1)\n",
    "y_test = np.argmax(my_test, axis=1)\n",
    "\n",
    "test_acc = accuracy_score(y_test, y_pred)\n",
    "\n",
    "y_pred = m_model.predict(mx_train)\n",
    "y_pred = np.argmax(y_pred, axis=1)\n",
    "y_test = np.argmax(my_train, axis=1)\n",
    "\n",
    "train_acc = accuracy_score(y_test, y_pred)"
   ]
  },
  {
   "cell_type": "code",
   "execution_count": 159,
   "id": "5e0e7f6f-1e8c-40d7-956d-bb478983ad1b",
   "metadata": {},
   "outputs": [
    {
     "data": {
      "image/png": "[encoded data removed]",
      "text/plain": [
       "<Figure size 640x480 with 1 Axes>"
      ]
     },
     "metadata": {},
     "output_type": "display_data"
    }
   ],
   "source": [
    "ax = sns.barplot([test_acc, train_acc])\n",
    "for i in ax.containers:\n",
    "    ax.bar_label(i)\n",
    "plt.xticks([0,1], [\"Train Accuracy %\", \"Test Accuracy %\"])\n",
    "plt.show()"
   ]
  },
  {
   "cell_type": "code",
   "execution_count": null,
   "id": "bd924f3a-f670-4567-a58a-272b4e1b6d47",
   "metadata": {},
   "outputs": [],
   "source": []
  }
 ],
 "metadata": {
  "kernelspec": {
   "display_name": "Python 3 (ipykernel)",
   "language": "python",
   "name": "python3"
  },
  "language_info": {
   "codemirror_mode": {
    "name": "ipython",
    "version": 3
   },
   "file_extension": ".py",
   "mimetype": "text/x-python",
   "name": "python",
   "nbconvert_exporter": "python",
   "pygments_lexer": "ipython3",
   "version": "3.12.7"
  }
 },
 "nbformat": 4,
 "nbformat_minor": 5
}
