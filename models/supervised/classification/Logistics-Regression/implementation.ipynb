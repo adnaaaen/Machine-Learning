{
 "cells": [
  {
   "cell_type": "markdown",
   "id": "d302a4e0-6293-4b17-9733-5fab2ba8ecc9",
   "metadata": {},
   "source": [
    "# Logistic Regression From Scratch"
   ]
  },
  {
   "cell_type": "code",
   "execution_count": 2,
   "id": "e5d0de93-d756-45b4-ae54-3f61f6cb8968",
   "metadata": {},
   "outputs": [],
   "source": [
    "from typing import Any\n",
    "\n",
    "import numpy as np\n",
    "from numpy.typing import NDArray\n",
    "\n",
    "from sklearn.datasets import make_classification\n",
    "from sklearn.model_selection import train_test_split\n",
    "from sklearn.metrics import accuracy_score, confusion_matrix"
   ]
  },
  {
   "cell_type": "code",
   "execution_count": 3,
   "id": "d4de36c8-d9a2-410c-a064-cf08ef851f72",
   "metadata": {},
   "outputs": [],
   "source": [
    "raw_x, raw_y = make_classification(n_features=10,n_samples=1000, random_state=3442, n_classes=4, n_informative=4)"
   ]
  },
  {
   "cell_type": "code",
   "execution_count": 4,
   "id": "6f6d8a9e-5100-454e-bf25-16ee1cfc59d6",
   "metadata": {},
   "outputs": [
    {
     "data": {
      "text/plain": [
       "((1000, 10), (1000,))"
      ]
     },
     "execution_count": 4,
     "metadata": {},
     "output_type": "execute_result"
    }
   ],
   "source": [
    "raw_x.shape, raw_y.shape"
   ]
  },
  {
   "cell_type": "code",
   "execution_count": 5,
   "id": "e5ffde6c-5185-4250-9abe-6a94aa26db3f",
   "metadata": {},
   "outputs": [
    {
     "data": {
      "text/plain": [
       "array([[-1.49145922, -1.36105207, -0.39836706, -1.05390468, -0.22661572,\n",
       "         2.00852865, -1.59656552, -1.19994206,  0.20283687, -1.20928586],\n",
       "       [ 2.75266804, -2.44971701, -4.00242896, -0.65984341,  0.27017922,\n",
       "        -0.8008154 , -0.56313084,  1.07736921, -1.43049395,  2.84724508],\n",
       "       [-1.78716186, -0.96396832,  0.36593077,  0.98423091,  1.3221235 ,\n",
       "        -0.56834005, -1.67309031,  0.13677196,  2.32924393, -1.41223455],\n",
       "       [-0.97497049,  1.16181039,  0.21046438,  0.88443167,  0.78531221,\n",
       "        -1.2282034 , -1.0789787 ,  1.79818595, -0.96636793,  0.13870262],\n",
       "       [ 0.67415307,  2.36344234,  2.20219647, -1.21472874,  0.76833011,\n",
       "         2.04722019,  2.86588265,  0.09576459, -1.62056968, -0.31048037]])"
      ]
     },
     "execution_count": 5,
     "metadata": {},
     "output_type": "execute_result"
    }
   ],
   "source": [
    "raw_x[:5]"
   ]
  },
  {
   "cell_type": "code",
   "execution_count": 6,
   "id": "1bf2b5e0-b336-40d2-b7ed-dd0f430e75dc",
   "metadata": {},
   "outputs": [
    {
     "data": {
      "text/plain": [
       "(((800, 10), (800,)), ((200, 10), (200,)))"
      ]
     },
     "execution_count": 6,
     "metadata": {},
     "output_type": "execute_result"
    }
   ],
   "source": [
    "x_train, x_test, y_train, y_test = train_test_split(raw_x, raw_y, random_state=3453, test_size=.2)\n",
    "(x_train.shape, y_train.shape), (x_test.shape, y_test.shape)"
   ]
  },
  {
   "cell_type": "code",
   "execution_count": 7,
   "id": "d65aae92-1b33-48c0-b49b-5446f54ba370",
   "metadata": {},
   "outputs": [],
   "source": [
    "class LogisticRegression:\n",
    "    \"\"\"implement logistic regression from scratch\"\"\"\n",
    "\n",
    "    def __init__(self, learning_rate: float = 0.001, epochs: int = 500, classes: int = 2) -> None:\n",
    "        \"\"\"initializing model & hyper parameters\"\"\"\n",
    "        \n",
    "        self.learning_rate = learning_rate\n",
    "        self.epochs = epochs  \n",
    "        self.no_of_classes = classes\n",
    "        self.bias = None \n",
    "        self.weight= None\n",
    "\n",
    "    def linear_equation(self, x: NDArray[np.float64], w: NDArray[np.float64], b: float | NDArray) -> NDArray:\n",
    "        \"\"\"\n",
    "            equation: z = w . x + b\n",
    "        \"\"\"\n",
    "        if x.shape[1] != w.shape[0]:\n",
    "            raise ValueError(\"X and W are mismatched column count\")\n",
    "\n",
    "        return np.dot(x, w) + b\n",
    "        \n",
    "    @staticmethod\n",
    "    def sigmoid(z: NDArray) -> NDArray:\n",
    "        \"\"\"\n",
    "            equation: sigmoid(z) = 1 / 1 + e ^ -z\n",
    "        \"\"\"\n",
    "        result = [1/(1+np.exp(-each)) for each in z]\n",
    "        return np.array(result)\n",
    "\n",
    "\n",
    "    @staticmethod\n",
    "    def softmax(z: NDArray[float]) -> NDArray:\n",
    "        \"\"\"\n",
    "            equation: softmax(z) = e^z / sum(e^z)\n",
    "        \"\"\"\n",
    "        sum_of_exp = sum([np.exp(each) for each in z])\n",
    "        result = [np.round(np.exp(each)/sum_of_exp, 5) for each in z]\n",
    "        return np.array(result)\n",
    "\n",
    "    \n",
    "    @staticmethod\n",
    "    def get_dw(y_true: NDArray[int], y_prob: NDArray[float], x: NDArray[float]) -> float:\n",
    "        \"\"\"generate partial derivative of loss with respect to weight\n",
    "        \n",
    "            Equation:\n",
    "                dw = 1/n . y_prob_i - y_true_i . x_i\n",
    "        \"\"\"\n",
    "        error = y_prob - y_true\n",
    "        dw = []\n",
    "        for each in x.T:\n",
    "            result = np.mean([np.round(a*b, 3) for a, b in zip(error, each)])\n",
    "            dw.append(result)\n",
    "        return np.array(dw)\n",
    "\n",
    "    @staticmethod\n",
    "    def get_db(y_true: NDArray[int], y_prob: NDArray[float]) -> float:\n",
    "        \"\"\"generate partial derivative of loss with respect to bias\"\"\"\n",
    "        error = y_prob - y_true\n",
    "        return np.mean(error)\n",
    "        \n",
    "    def update_params(self, y_prob: NDArray, y_true: NDArray, x: NDArray) -> tuple[float, float]:\n",
    "        \"\"\"\n",
    "        Returns:\n",
    "            tuple[float, float] : (weight, bias)\n",
    "        \"\"\"\n",
    "        new_weight = self.weight - (self.learning_rate * self.get_dw(y_prob=y_prob, y_true=y_true, x=x))\n",
    "        new_bias = self.bias - (self.learning_rate * self.get_db(y_prob=y_prob, y_true=y_true))\n",
    "        return (new_weight, new_bias)\n",
    "        \n",
    "\n",
    "    def fit(self, x: NDArray[np.float64], y: NDArray[np.int16]) -> Any:\n",
    "        \"\"\"train the model\n",
    "\n",
    "        Args:\n",
    "            x: (ndarray) : Feature matrix with shape (n_samples, n_features)\n",
    "            y: (ndarray) : Target matrix with shape (n_samples,)\n",
    "\n",
    "        Return:\n",
    "            Any\n",
    "\n",
    "        Raise:\n",
    "            ValueError : if x and y have mismatched length\n",
    "\n",
    "        \"\"\"\n",
    "        if x.shape[0] != y.shape[0]:\n",
    "            raise ValueError(f\"x and y have mismatched shape x: {x.shape[0]} y:{x.shape[0]}\")\n",
    "\n",
    "        self.weight = np.random.randn(x.shape[1]) * .01 if self.no_of_classes <= 2 else np.random.randn(x.shape[1], self.no_of_classes)\n",
    "        self.bias = 0 if self.no_of_classes <= 2 else np.zeros(self.no_of_classes)\n",
    "\n",
    "        # for _ in range(self.epochs):\n",
    "        #     logits = self.linear_equation(x=x, w=self.weight, b=self.bias)\n",
    "            \n",
    "        #     prob = self.sigmoid(logits)\n",
    "\n",
    "        #     # self.forward_propagation()\n",
    "        #     # self.backward_propagation()\n",
    "\n",
    "        #     self.weight, self.bias = self.update_params(x=x, y_prob=prob, y_true=y)\n",
    "        logits = self.linear_equation(x=x, w=self.weight, b=self.bias)\n",
    "        prob = self.softmax(logits)\n",
    "        print(\"training completed\")\n",
    "\n",
    "    def predict(self, x: np.ndarray) -> Any:\n",
    "        pred_logits = self.linear_equation(x=x, w=self.weight, b=self.bias)\n",
    "        pred_prob = self.sigmoid(pred_logits)\n",
    "\n",
    "        result = list(map(lambda x: 1 if x > .5 else 0, pred_prob))\n",
    "        return np.array(result)"
   ]
  },
  {
   "cell_type": "code",
   "execution_count": 15,
   "id": "95fdc3cd-7c5e-4e8a-90d9-28eb59d9384e",
   "metadata": {},
   "outputs": [
    {
     "name": "stdout",
     "output_type": "stream",
     "text": [
      "[[1.80e-04 0.00e+00 1.29e-03 3.00e-05]\n",
      " [2.00e-05 0.00e+00 4.00e-05 0.00e+00]\n",
      " [0.00e+00 1.00e-05 2.00e-05 0.00e+00]\n",
      " ...\n",
      " [4.30e-04 0.00e+00 6.80e-04 0.00e+00]\n",
      " [4.00e-05 0.00e+00 0.00e+00 0.00e+00]\n",
      " [0.00e+00 1.00e-05 0.00e+00 0.00e+00]]\n",
      "--------------------------------------------------\n",
      "training completed\n"
     ]
    },
    {
     "data": {
      "text/plain": [
       "array([1.80e-04, 0.00e+00, 1.29e-03, 3.00e-05])"
      ]
     },
     "execution_count": 15,
     "metadata": {},
     "output_type": "execute_result"
    }
   ],
   "source": [
    "model = LogisticRegression(classes=4)\n",
    "\n",
    "p = model.fit(x=x_train, y=y_train)\n",
    "p[0]"
   ]
  },
  {
   "cell_type": "code",
   "execution_count": 16,
   "id": "28a0a117-f469-4f00-b672-baa64d10bbc8",
   "metadata": {},
   "outputs": [
    {
     "data": {
      "text/plain": [
       "array([[ 0.9598751 ,  0.08524095,  0.25602445,  0.98297979],\n",
       "       [ 0.45308351, -0.12973527, -0.82842919,  0.50777622],\n",
       "       [-1.30475974,  1.89011479,  0.20936792, -0.94777063],\n",
       "       [ 0.92853219, -0.11910786,  0.8650303 , -1.56942173],\n",
       "       [ 0.26220022,  0.86355589, -0.17935383, -0.17878888],\n",
       "       [ 0.82995202, -1.28151344, -2.75796018, -0.23509009],\n",
       "       [-0.48379702,  1.83144581,  0.13339017,  0.26945298],\n",
       "       [ 0.79315503, -0.58266278,  1.17098889, -0.04930467],\n",
       "       [-1.43194209, -0.86334359,  0.45613484, -0.29042935],\n",
       "       [-0.52867257,  0.46569203,  0.07400278,  0.97001726]])"
      ]
     },
     "execution_count": 16,
     "metadata": {},
     "output_type": "execute_result"
    }
   ],
   "source": [
    "model.weight"
   ]
  },
  {
   "cell_type": "code",
   "execution_count": 14,
   "id": "cfbc091e-e935-4c83-997d-d911b84579af",
   "metadata": {},
   "outputs": [
    {
     "data": {
      "text/plain": [
       "array([0., 0., 0., 0., 0., 0., 0., 0., 0., 0.])"
      ]
     },
     "execution_count": 14,
     "metadata": {},
     "output_type": "execute_result"
    }
   ],
   "source": [
    "model.bias"
   ]
  },
  {
   "cell_type": "code",
   "execution_count": null,
   "id": "d47691d4-ab35-40fb-87f7-4fb325ca7c78",
   "metadata": {},
   "outputs": [],
   "source": [
    "y_pred = model.predict(x=x_test)\n",
    "y_pred"
   ]
  },
  {
   "cell_type": "code",
   "execution_count": null,
   "id": "0136be61-6c07-45b2-b3dd-27f828e5abba",
   "metadata": {},
   "outputs": [],
   "source": [
    "y_test"
   ]
  },
  {
   "cell_type": "code",
   "execution_count": null,
   "id": "f50a68fd-6688-426c-82f9-c50fdb9fa14b",
   "metadata": {},
   "outputs": [],
   "source": [
    "tn, fp, fn, tp = confusion_matrix(y_test, y_pred).ravel()\n",
    "print(f\"TN : {tn}\\nFP : {fp}\\nFN : {fn}\\nTP : {tp}\")"
   ]
  },
  {
   "cell_type": "code",
   "execution_count": null,
   "id": "8658d1a0-42f0-4e29-be1d-4cc57acf0f46",
   "metadata": {},
   "outputs": [],
   "source": [
    "test_acc = accuracy_score(y_test, y_pred) * 100\n",
    "print(f\"Test Accuracy is {test_acc}\")"
   ]
  },
  {
   "cell_type": "code",
   "execution_count": null,
   "id": "8ac1490c-4b27-406a-859c-62384a969de4",
   "metadata": {},
   "outputs": [],
   "source": [
    "y_pred_train = model.predict(x_train)\n",
    "train_acc = accuracy_score(y_train, y_pred_train) * 100\n",
    "print(f\"Train Accuracy is {train_acc}\")"
   ]
  },
  {
   "cell_type": "code",
   "execution_count": null,
   "id": "bb4ed1c6-7f11-4e84-99aa-67d27afe9909",
   "metadata": {},
   "outputs": [],
   "source": []
  }
 ],
 "metadata": {
  "kernelspec": {
   "display_name": "Python 3 (ipykernel)",
   "language": "python",
   "name": "python3"
  },
  "language_info": {
   "codemirror_mode": {
    "name": "ipython",
    "version": 3
   },
   "file_extension": ".py",
   "mimetype": "text/x-python",
   "name": "python",
   "nbconvert_exporter": "python",
   "pygments_lexer": "ipython3",
   "version": "3.12.7"
  }
 },
 "nbformat": 4,
 "nbformat_minor": 5
}
